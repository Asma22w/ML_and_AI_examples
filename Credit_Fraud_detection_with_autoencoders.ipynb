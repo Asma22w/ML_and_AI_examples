{
  "nbformat": 4,
  "nbformat_minor": 0,
  "metadata": {
    "colab": {
      "name": "Credit Fraud detection with autoencoders.ipynb",
      "provenance": [],
      "collapsed_sections": [],
      "include_colab_link": true
    },
    "kernelspec": {
      "name": "python3",
      "display_name": "Python 3"
    }
  },
  "cells": [
    {
      "cell_type": "markdown",
      "metadata": {
        "id": "view-in-github",
        "colab_type": "text"
      },
      "source": [
        "<a href=\"https://colab.research.google.com/github/dpanagop/ML_and_AI_examples/blob/master/Credit_Fraud_detection_with_autoencoders.ipynb\" target=\"_parent\"><img src=\"https://colab.research.google.com/assets/colab-badge.svg\" alt=\"Open In Colab\"/></a>"
      ]
    },
    {
      "cell_type": "code",
      "metadata": {
        "id": "gT2psZNVvB9U",
        "colab_type": "code",
        "outputId": "d118f07e-fe77-47fd-ea71-9e4cf7d9d1c6",
        "colab": {
          "base_uri": "https://localhost:8080/",
          "height": 478
        }
      },
      "source": [
        "!wget -O creditfraud.zip https://www.dropbox.com/s/tl20yp9bcl56oxt/creditcardfraud.zip?dl=0"
      ],
      "execution_count": 0,
      "outputs": [
        {
          "output_type": "stream",
          "text": [
            "--2019-11-26 04:29:31--  https://www.dropbox.com/s/tl20yp9bcl56oxt/creditcardfraud.zip?dl=0\n",
            "Resolving www.dropbox.com (www.dropbox.com)... 162.125.8.1, 2620:100:601b:1::a27d:801\n",
            "Connecting to www.dropbox.com (www.dropbox.com)|162.125.8.1|:443... connected.\n",
            "HTTP request sent, awaiting response... 301 Moved Permanently\n",
            "Location: /s/raw/tl20yp9bcl56oxt/creditcardfraud.zip [following]\n",
            "--2019-11-26 04:29:31--  https://www.dropbox.com/s/raw/tl20yp9bcl56oxt/creditcardfraud.zip\n",
            "Reusing existing connection to www.dropbox.com:443.\n",
            "HTTP request sent, awaiting response... 302 Found\n",
            "Location: https://uc600df72efdc5d4c7d4fa8e3dae.dl.dropboxusercontent.com/cd/0/inline/AtFnX4lQ-8LtZE8TIY-yFxvVAtdLAwc5oGApZp1rykPKGtlKpzEuCKCUfvagjB2FJus-wIpzAM91TseNuzzDkaehfJV8pWDvVVPlv4wf4JSGIE72gJjVpQZuWtYkaDkjVzo/file# [following]\n",
            "--2019-11-26 04:29:31--  https://uc600df72efdc5d4c7d4fa8e3dae.dl.dropboxusercontent.com/cd/0/inline/AtFnX4lQ-8LtZE8TIY-yFxvVAtdLAwc5oGApZp1rykPKGtlKpzEuCKCUfvagjB2FJus-wIpzAM91TseNuzzDkaehfJV8pWDvVVPlv4wf4JSGIE72gJjVpQZuWtYkaDkjVzo/file\n",
            "Resolving uc600df72efdc5d4c7d4fa8e3dae.dl.dropboxusercontent.com (uc600df72efdc5d4c7d4fa8e3dae.dl.dropboxusercontent.com)... 162.125.3.6, 2620:100:601b:6::a27d:806\n",
            "Connecting to uc600df72efdc5d4c7d4fa8e3dae.dl.dropboxusercontent.com (uc600df72efdc5d4c7d4fa8e3dae.dl.dropboxusercontent.com)|162.125.3.6|:443... connected.\n",
            "HTTP request sent, awaiting response... 302 FOUND\n",
            "Location: /cd/0/inline2/AtG_kro0H3xWXTUCsTLAjVMDcc_pTLo8pWaMapu2OjLJ-ArlfVfb-PmNAUjn_vBrFzAXJc46vlE-1zZo7JI0cCcFkWRSn_FsNPbxBSEgThURvz9JP5HfZb2qHEpgEIup6eFFFNkSxZqHnDChWyjDpbmbMaiUjnfv1jbqb6iiiEb_OQ0vwtM-EI-BNv_d3XdVom3_o3r9n5gdzmf3BYlOwwpAcZcravUb3oVx4Ylwuev-rxDFa_Dca1Xiq81yTFgSgzcaXX-Pn4J_Pq0Tvzu6eWOVjEuJ0Wj1vFYcRH6XK0oRsZLiUHHfEhHBFuUCWUFALH5-2zPTErAolvQWwFZFV7-gLAPc5tn976mm-NWkcbiqFA/file [following]\n",
            "--2019-11-26 04:29:32--  https://uc600df72efdc5d4c7d4fa8e3dae.dl.dropboxusercontent.com/cd/0/inline2/AtG_kro0H3xWXTUCsTLAjVMDcc_pTLo8pWaMapu2OjLJ-ArlfVfb-PmNAUjn_vBrFzAXJc46vlE-1zZo7JI0cCcFkWRSn_FsNPbxBSEgThURvz9JP5HfZb2qHEpgEIup6eFFFNkSxZqHnDChWyjDpbmbMaiUjnfv1jbqb6iiiEb_OQ0vwtM-EI-BNv_d3XdVom3_o3r9n5gdzmf3BYlOwwpAcZcravUb3oVx4Ylwuev-rxDFa_Dca1Xiq81yTFgSgzcaXX-Pn4J_Pq0Tvzu6eWOVjEuJ0Wj1vFYcRH6XK0oRsZLiUHHfEhHBFuUCWUFALH5-2zPTErAolvQWwFZFV7-gLAPc5tn976mm-NWkcbiqFA/file\n",
            "Reusing existing connection to uc600df72efdc5d4c7d4fa8e3dae.dl.dropboxusercontent.com:443.\n",
            "HTTP request sent, awaiting response... 200 OK\n",
            "Length: 69155672 (66M) [application/zip]\n",
            "Saving to: ‘creditfraud.zip’\n",
            "\n",
            "creditfraud.zip     100%[===================>]  65.95M  48.9MB/s    in 1.3s    \n",
            "\n",
            "2019-11-26 04:29:34 (48.9 MB/s) - ‘creditfraud.zip’ saved [69155672/69155672]\n",
            "\n"
          ],
          "name": "stdout"
        }
      ]
    },
    {
      "cell_type": "code",
      "metadata": {
        "id": "1xqM1qxSvD_b",
        "colab_type": "code",
        "outputId": "ab476476-571a-4a66-d7e8-e4e812ee0518",
        "colab": {
          "base_uri": "https://localhost:8080/",
          "height": 72
        }
      },
      "source": [
        "!unzip creditfraud.zip"
      ],
      "execution_count": 0,
      "outputs": [
        {
          "output_type": "stream",
          "text": [
            "Archive:  creditfraud.zip\n",
            "replace creditcard.csv? [y]es, [n]o, [A]ll, [N]one, [r]ename: y\n",
            "  inflating: creditcard.csv          \n"
          ],
          "name": "stdout"
        }
      ]
    },
    {
      "cell_type": "code",
      "metadata": {
        "id": "C-vN7SvXvMs5",
        "colab_type": "code",
        "outputId": "baf04657-befb-43b9-d34a-e4b1fcec3746",
        "colab": {
          "base_uri": "https://localhost:8080/",
          "height": 83
        }
      },
      "source": [
        "import pandas as pd\n",
        "import numpy as np\n",
        "import seaborn as sns\n",
        "import matplotlib.pyplot as plt \n",
        "from sklearn.model_selection import train_test_split\n",
        "from sklearn.linear_model import LogisticRegression\n",
        "from sklearn import metrics\n",
        "from sklearn.preprocessing import StandardScaler\n",
        "from keras.models import Model, load_model\n",
        "from keras.layers import Input, Dense"
      ],
      "execution_count": 0,
      "outputs": [
        {
          "output_type": "stream",
          "text": [
            "Using TensorFlow backend.\n"
          ],
          "name": "stderr"
        },
        {
          "output_type": "display_data",
          "data": {
            "text/html": [
              "<p style=\"color: red;\">\n",
              "The default version of TensorFlow in Colab will soon switch to TensorFlow 2.x.<br>\n",
              "We recommend you <a href=\"https://www.tensorflow.org/guide/migrate\" target=\"_blank\">upgrade</a> now \n",
              "or ensure your notebook will continue to use TensorFlow 1.x via the <code>%tensorflow_version 1.x</code> magic:\n",
              "<a href=\"https://colab.research.google.com/notebooks/tensorflow_version.ipynb\" target=\"_blank\">more info</a>.</p>\n"
            ],
            "text/plain": [
              "<IPython.core.display.HTML object>"
            ]
          },
          "metadata": {
            "tags": []
          }
        }
      ]
    },
    {
      "cell_type": "code",
      "metadata": {
        "id": "NMVr2-hzvlID",
        "colab_type": "code",
        "outputId": "f8fa1f8e-859c-437b-8250-dcfa4685a832",
        "colab": {
          "base_uri": "https://localhost:8080/",
          "height": 226
        }
      },
      "source": [
        "dat=pd.read_csv('creditcard.csv')\n",
        "dat.head()"
      ],
      "execution_count": 0,
      "outputs": [
        {
          "output_type": "execute_result",
          "data": {
            "text/html": [
              "<div>\n",
              "<style scoped>\n",
              "    .dataframe tbody tr th:only-of-type {\n",
              "        vertical-align: middle;\n",
              "    }\n",
              "\n",
              "    .dataframe tbody tr th {\n",
              "        vertical-align: top;\n",
              "    }\n",
              "\n",
              "    .dataframe thead th {\n",
              "        text-align: right;\n",
              "    }\n",
              "</style>\n",
              "<table border=\"1\" class=\"dataframe\">\n",
              "  <thead>\n",
              "    <tr style=\"text-align: right;\">\n",
              "      <th></th>\n",
              "      <th>Time</th>\n",
              "      <th>V1</th>\n",
              "      <th>V2</th>\n",
              "      <th>V3</th>\n",
              "      <th>V4</th>\n",
              "      <th>V5</th>\n",
              "      <th>V6</th>\n",
              "      <th>V7</th>\n",
              "      <th>V8</th>\n",
              "      <th>V9</th>\n",
              "      <th>V10</th>\n",
              "      <th>V11</th>\n",
              "      <th>V12</th>\n",
              "      <th>V13</th>\n",
              "      <th>V14</th>\n",
              "      <th>V15</th>\n",
              "      <th>V16</th>\n",
              "      <th>V17</th>\n",
              "      <th>V18</th>\n",
              "      <th>V19</th>\n",
              "      <th>V20</th>\n",
              "      <th>V21</th>\n",
              "      <th>V22</th>\n",
              "      <th>V23</th>\n",
              "      <th>V24</th>\n",
              "      <th>V25</th>\n",
              "      <th>V26</th>\n",
              "      <th>V27</th>\n",
              "      <th>V28</th>\n",
              "      <th>Amount</th>\n",
              "      <th>Class</th>\n",
              "    </tr>\n",
              "  </thead>\n",
              "  <tbody>\n",
              "    <tr>\n",
              "      <th>0</th>\n",
              "      <td>0.0</td>\n",
              "      <td>-1.359807</td>\n",
              "      <td>-0.072781</td>\n",
              "      <td>2.536347</td>\n",
              "      <td>1.378155</td>\n",
              "      <td>-0.338321</td>\n",
              "      <td>0.462388</td>\n",
              "      <td>0.239599</td>\n",
              "      <td>0.098698</td>\n",
              "      <td>0.363787</td>\n",
              "      <td>0.090794</td>\n",
              "      <td>-0.551600</td>\n",
              "      <td>-0.617801</td>\n",
              "      <td>-0.991390</td>\n",
              "      <td>-0.311169</td>\n",
              "      <td>1.468177</td>\n",
              "      <td>-0.470401</td>\n",
              "      <td>0.207971</td>\n",
              "      <td>0.025791</td>\n",
              "      <td>0.403993</td>\n",
              "      <td>0.251412</td>\n",
              "      <td>-0.018307</td>\n",
              "      <td>0.277838</td>\n",
              "      <td>-0.110474</td>\n",
              "      <td>0.066928</td>\n",
              "      <td>0.128539</td>\n",
              "      <td>-0.189115</td>\n",
              "      <td>0.133558</td>\n",
              "      <td>-0.021053</td>\n",
              "      <td>149.62</td>\n",
              "      <td>0</td>\n",
              "    </tr>\n",
              "    <tr>\n",
              "      <th>1</th>\n",
              "      <td>0.0</td>\n",
              "      <td>1.191857</td>\n",
              "      <td>0.266151</td>\n",
              "      <td>0.166480</td>\n",
              "      <td>0.448154</td>\n",
              "      <td>0.060018</td>\n",
              "      <td>-0.082361</td>\n",
              "      <td>-0.078803</td>\n",
              "      <td>0.085102</td>\n",
              "      <td>-0.255425</td>\n",
              "      <td>-0.166974</td>\n",
              "      <td>1.612727</td>\n",
              "      <td>1.065235</td>\n",
              "      <td>0.489095</td>\n",
              "      <td>-0.143772</td>\n",
              "      <td>0.635558</td>\n",
              "      <td>0.463917</td>\n",
              "      <td>-0.114805</td>\n",
              "      <td>-0.183361</td>\n",
              "      <td>-0.145783</td>\n",
              "      <td>-0.069083</td>\n",
              "      <td>-0.225775</td>\n",
              "      <td>-0.638672</td>\n",
              "      <td>0.101288</td>\n",
              "      <td>-0.339846</td>\n",
              "      <td>0.167170</td>\n",
              "      <td>0.125895</td>\n",
              "      <td>-0.008983</td>\n",
              "      <td>0.014724</td>\n",
              "      <td>2.69</td>\n",
              "      <td>0</td>\n",
              "    </tr>\n",
              "    <tr>\n",
              "      <th>2</th>\n",
              "      <td>1.0</td>\n",
              "      <td>-1.358354</td>\n",
              "      <td>-1.340163</td>\n",
              "      <td>1.773209</td>\n",
              "      <td>0.379780</td>\n",
              "      <td>-0.503198</td>\n",
              "      <td>1.800499</td>\n",
              "      <td>0.791461</td>\n",
              "      <td>0.247676</td>\n",
              "      <td>-1.514654</td>\n",
              "      <td>0.207643</td>\n",
              "      <td>0.624501</td>\n",
              "      <td>0.066084</td>\n",
              "      <td>0.717293</td>\n",
              "      <td>-0.165946</td>\n",
              "      <td>2.345865</td>\n",
              "      <td>-2.890083</td>\n",
              "      <td>1.109969</td>\n",
              "      <td>-0.121359</td>\n",
              "      <td>-2.261857</td>\n",
              "      <td>0.524980</td>\n",
              "      <td>0.247998</td>\n",
              "      <td>0.771679</td>\n",
              "      <td>0.909412</td>\n",
              "      <td>-0.689281</td>\n",
              "      <td>-0.327642</td>\n",
              "      <td>-0.139097</td>\n",
              "      <td>-0.055353</td>\n",
              "      <td>-0.059752</td>\n",
              "      <td>378.66</td>\n",
              "      <td>0</td>\n",
              "    </tr>\n",
              "    <tr>\n",
              "      <th>3</th>\n",
              "      <td>1.0</td>\n",
              "      <td>-0.966272</td>\n",
              "      <td>-0.185226</td>\n",
              "      <td>1.792993</td>\n",
              "      <td>-0.863291</td>\n",
              "      <td>-0.010309</td>\n",
              "      <td>1.247203</td>\n",
              "      <td>0.237609</td>\n",
              "      <td>0.377436</td>\n",
              "      <td>-1.387024</td>\n",
              "      <td>-0.054952</td>\n",
              "      <td>-0.226487</td>\n",
              "      <td>0.178228</td>\n",
              "      <td>0.507757</td>\n",
              "      <td>-0.287924</td>\n",
              "      <td>-0.631418</td>\n",
              "      <td>-1.059647</td>\n",
              "      <td>-0.684093</td>\n",
              "      <td>1.965775</td>\n",
              "      <td>-1.232622</td>\n",
              "      <td>-0.208038</td>\n",
              "      <td>-0.108300</td>\n",
              "      <td>0.005274</td>\n",
              "      <td>-0.190321</td>\n",
              "      <td>-1.175575</td>\n",
              "      <td>0.647376</td>\n",
              "      <td>-0.221929</td>\n",
              "      <td>0.062723</td>\n",
              "      <td>0.061458</td>\n",
              "      <td>123.50</td>\n",
              "      <td>0</td>\n",
              "    </tr>\n",
              "    <tr>\n",
              "      <th>4</th>\n",
              "      <td>2.0</td>\n",
              "      <td>-1.158233</td>\n",
              "      <td>0.877737</td>\n",
              "      <td>1.548718</td>\n",
              "      <td>0.403034</td>\n",
              "      <td>-0.407193</td>\n",
              "      <td>0.095921</td>\n",
              "      <td>0.592941</td>\n",
              "      <td>-0.270533</td>\n",
              "      <td>0.817739</td>\n",
              "      <td>0.753074</td>\n",
              "      <td>-0.822843</td>\n",
              "      <td>0.538196</td>\n",
              "      <td>1.345852</td>\n",
              "      <td>-1.119670</td>\n",
              "      <td>0.175121</td>\n",
              "      <td>-0.451449</td>\n",
              "      <td>-0.237033</td>\n",
              "      <td>-0.038195</td>\n",
              "      <td>0.803487</td>\n",
              "      <td>0.408542</td>\n",
              "      <td>-0.009431</td>\n",
              "      <td>0.798278</td>\n",
              "      <td>-0.137458</td>\n",
              "      <td>0.141267</td>\n",
              "      <td>-0.206010</td>\n",
              "      <td>0.502292</td>\n",
              "      <td>0.219422</td>\n",
              "      <td>0.215153</td>\n",
              "      <td>69.99</td>\n",
              "      <td>0</td>\n",
              "    </tr>\n",
              "  </tbody>\n",
              "</table>\n",
              "</div>"
            ],
            "text/plain": [
              "   Time        V1        V2        V3  ...       V27       V28  Amount  Class\n",
              "0   0.0 -1.359807 -0.072781  2.536347  ...  0.133558 -0.021053  149.62      0\n",
              "1   0.0  1.191857  0.266151  0.166480  ... -0.008983  0.014724    2.69      0\n",
              "2   1.0 -1.358354 -1.340163  1.773209  ... -0.055353 -0.059752  378.66      0\n",
              "3   1.0 -0.966272 -0.185226  1.792993  ...  0.062723  0.061458  123.50      0\n",
              "4   2.0 -1.158233  0.877737  1.548718  ...  0.219422  0.215153   69.99      0\n",
              "\n",
              "[5 rows x 31 columns]"
            ]
          },
          "metadata": {
            "tags": []
          },
          "execution_count": 4
        }
      ]
    },
    {
      "cell_type": "code",
      "metadata": {
        "id": "l3TwIbGCvmz9",
        "colab_type": "code",
        "outputId": "9e708420-bccb-4686-bbea-e225a3441c0e",
        "colab": {
          "base_uri": "https://localhost:8080/",
          "height": 72
        }
      },
      "source": [
        "dat['Class'].value_counts()/dat['Class'].count()"
      ],
      "execution_count": 0,
      "outputs": [
        {
          "output_type": "execute_result",
          "data": {
            "text/plain": [
              "0    0.998273\n",
              "1    0.001727\n",
              "Name: Class, dtype: float64"
            ]
          },
          "metadata": {
            "tags": []
          },
          "execution_count": 5
        }
      ]
    },
    {
      "cell_type": "code",
      "metadata": {
        "id": "L4KRErdPvt1A",
        "colab_type": "code",
        "outputId": "e910013f-b4c8-436e-ad0f-e2a44ec812b0",
        "colab": {
          "base_uri": "https://localhost:8080/",
          "height": 297
        }
      },
      "source": [
        "sns.countplot(x='Class',data=dat)"
      ],
      "execution_count": 0,
      "outputs": [
        {
          "output_type": "execute_result",
          "data": {
            "text/plain": [
              "<matplotlib.axes._subplots.AxesSubplot at 0x7fb6eb8679e8>"
            ]
          },
          "metadata": {
            "tags": []
          },
          "execution_count": 6
        },
        {
          "output_type": "display_data",
          "data": {
            "image/png": "[encoded data removed]",
            "text/plain": [
              "<Figure size 432x288 with 1 Axes>"
            ]
          },
          "metadata": {
            "tags": []
          }
        }
      ]
    },
    {
      "cell_type": "code",
      "metadata": {
        "id": "wDJt4sXDvxzb",
        "colab_type": "code",
        "colab": {}
      },
      "source": [
        "dat = dat.drop([ 'Time'], 1)\n",
        "dat['Amount'] = StandardScaler().fit_transform(dat['Amount'].values.reshape(-1, 1))"
      ],
      "execution_count": 0,
      "outputs": []
    },
    {
      "cell_type": "code",
      "metadata": {
        "id": "1T3X-3wFv001",
        "colab_type": "code",
        "colab": {}
      },
      "source": [
        "X_train, X_test, y_train, y_test = train_test_split(dat.drop('Class',1) , dat['Class'], test_size=0.5, random_state=0)"
      ],
      "execution_count": 0,
      "outputs": []
    },
    {
      "cell_type": "code",
      "metadata": {
        "id": "ooXM9UEwv3QX",
        "colab_type": "code",
        "outputId": "569380d9-5d8e-4d99-f20a-d4d52824ce60",
        "colab": {
          "base_uri": "https://localhost:8080/",
          "height": 72
        }
      },
      "source": [
        "y_test.value_counts()/y_test.count()"
      ],
      "execution_count": 0,
      "outputs": [
        {
          "output_type": "execute_result",
          "data": {
            "text/plain": [
              "0    0.998294\n",
              "1    0.001706\n",
              "Name: Class, dtype: float64"
            ]
          },
          "metadata": {
            "tags": []
          },
          "execution_count": 9
        }
      ]
    },
    {
      "cell_type": "code",
      "metadata": {
        "id": "K3YUftDjv5z-",
        "colab_type": "code",
        "outputId": "7833983b-546b-4935-d41c-d4342401c875",
        "colab": {
          "base_uri": "https://localhost:8080/",
          "height": 72
        }
      },
      "source": [
        "y_train.value_counts()/y_train.count()"
      ],
      "execution_count": 0,
      "outputs": [
        {
          "output_type": "execute_result",
          "data": {
            "text/plain": [
              "0    0.998251\n",
              "1    0.001749\n",
              "Name: Class, dtype: float64"
            ]
          },
          "metadata": {
            "tags": []
          },
          "execution_count": 10
        }
      ]
    },
    {
      "cell_type": "code",
      "metadata": {
        "id": "mMzBdaAdv7rE",
        "colab_type": "code",
        "colab": {}
      },
      "source": [
        "X_train_normal = X_train[y_train==0]\n",
        "X_train_fraud = X_train[y_train==1]"
      ],
      "execution_count": 0,
      "outputs": []
    },
    {
      "cell_type": "code",
      "metadata": {
        "id": "euBPgiamw2R6",
        "colab_type": "code",
        "outputId": "c81e96f4-b617-4dab-99d5-a301d3768182",
        "colab": {
          "base_uri": "https://localhost:8080/",
          "height": 147
        }
      },
      "source": [
        "input_layer = Input(shape=(29, ))\n",
        "encoded = Dense(12,activation='tanh')(input_layer)\n",
        "decoded = Dense(29,activation='sigmoid')(encoded)\n",
        "autoencoder = Model(input_layer,decoded)"
      ],
      "execution_count": 0,
      "outputs": [
        {
          "output_type": "stream",
          "text": [
            "WARNING:tensorflow:From /usr/local/lib/python3.6/dist-packages/keras/backend/tensorflow_backend.py:66: The name tf.get_default_graph is deprecated. Please use tf.compat.v1.get_default_graph instead.\n",
            "\n",
            "WARNING:tensorflow:From /usr/local/lib/python3.6/dist-packages/keras/backend/tensorflow_backend.py:541: The name tf.placeholder is deprecated. Please use tf.compat.v1.placeholder instead.\n",
            "\n",
            "WARNING:tensorflow:From /usr/local/lib/python3.6/dist-packages/keras/backend/tensorflow_backend.py:4432: The name tf.random_uniform is deprecated. Please use tf.random.uniform instead.\n",
            "\n"
          ],
          "name": "stdout"
        }
      ]
    },
    {
      "cell_type": "code",
      "metadata": {
        "id": "fY42GWDWyoxL",
        "colab_type": "code",
        "outputId": "93191365-37db-48d1-aaa5-cc8f2ed739b9",
        "colab": {
          "base_uri": "https://localhost:8080/",
          "height": 54
        }
      },
      "source": [
        "autoencoder.compile(optimizer='adam',loss='mean_squared_error')"
      ],
      "execution_count": 0,
      "outputs": [
        {
          "output_type": "stream",
          "text": [
            "WARNING:tensorflow:From /usr/local/lib/python3.6/dist-packages/keras/optimizers.py:793: The name tf.train.Optimizer is deprecated. Please use tf.compat.v1.train.Optimizer instead.\n",
            "\n"
          ],
          "name": "stdout"
        }
      ]
    },
    {
      "cell_type": "code",
      "metadata": {
        "id": "ZC2j3eXJxM-B",
        "colab_type": "code",
        "outputId": "3a5376d4-e64c-4e87-9985-a4a22eef74e7",
        "colab": {
          "base_uri": "https://localhost:8080/",
          "height": 1000
        }
      },
      "source": [
        "autoencoder.fit(X_train_normal, X_train_normal, epochs = 100, batch_size=128,\n",
        "validation_data=(X_train_normal,X_train_normal))"
      ],
      "execution_count": 0,
      "outputs": [
        {
          "output_type": "stream",
          "text": [
            "WARNING:tensorflow:From /usr/local/lib/python3.6/dist-packages/keras/backend/tensorflow_backend.py:1033: The name tf.assign_add is deprecated. Please use tf.compat.v1.assign_add instead.\n",
            "\n",
            "WARNING:tensorflow:From /usr/local/lib/python3.6/dist-packages/keras/backend/tensorflow_backend.py:1020: The name tf.assign is deprecated. Please use tf.compat.v1.assign instead.\n",
            "\n",
            "WARNING:tensorflow:From /usr/local/lib/python3.6/dist-packages/keras/backend/tensorflow_backend.py:3005: The name tf.Session is deprecated. Please use tf.compat.v1.Session instead.\n",
            "\n",
            "Train on 142154 samples, validate on 142154 samples\n",
            "Epoch 1/100\n",
            "WARNING:tensorflow:From /usr/local/lib/python3.6/dist-packages/keras/backend/tensorflow_backend.py:190: The name tf.get_default_session is deprecated. Please use tf.compat.v1.get_default_session instead.\n",
            "\n",
            "WARNING:tensorflow:From /usr/local/lib/python3.6/dist-packages/keras/backend/tensorflow_backend.py:197: The name tf.ConfigProto is deprecated. Please use tf.compat.v1.ConfigProto instead.\n",
            "\n",
            "WARNING:tensorflow:From /usr/local/lib/python3.6/dist-packages/keras/backend/tensorflow_backend.py:207: The name tf.global_variables is deprecated. Please use tf.compat.v1.global_variables instead.\n",
            "\n",
            "WARNING:tensorflow:From /usr/local/lib/python3.6/dist-packages/keras/backend/tensorflow_backend.py:216: The name tf.is_variable_initialized is deprecated. Please use tf.compat.v1.is_variable_initialized instead.\n",
            "\n",
            "WARNING:tensorflow:From /usr/local/lib/python3.6/dist-packages/keras/backend/tensorflow_backend.py:223: The name tf.variables_initializer is deprecated. Please use tf.compat.v1.variables_initializer instead.\n",
            "\n",
            "142154/142154 [==============================] - 3s 18us/step - loss: 0.9980 - val_loss: 0.8867\n",
            "Epoch 2/100\n",
            "142154/142154 [==============================] - 2s 16us/step - loss: 0.8613 - val_loss: 0.8432\n",
            "Epoch 3/100\n",
            "142154/142154 [==============================] - 2s 15us/step - loss: 0.8330 - val_loss: 0.8244\n",
            "Epoch 4/100\n",
            "142154/142154 [==============================] - 2s 16us/step - loss: 0.8180 - val_loss: 0.8123\n",
            "Epoch 5/100\n",
            "142154/142154 [==============================] - 2s 16us/step - loss: 0.8081 - val_loss: 0.8042\n",
            "Epoch 6/100\n",
            "142154/142154 [==============================] - 2s 16us/step - loss: 0.8012 - val_loss: 0.7984\n",
            "Epoch 7/100\n",
            "142154/142154 [==============================] - 2s 16us/step - loss: 0.7963 - val_loss: 0.7941\n",
            "Epoch 8/100\n",
            "142154/142154 [==============================] - 2s 16us/step - loss: 0.7924 - val_loss: 0.7908\n",
            "Epoch 9/100\n",
            "142154/142154 [==============================] - 2s 15us/step - loss: 0.7894 - val_loss: 0.7880\n",
            "Epoch 10/100\n",
            "142154/142154 [==============================] - 2s 16us/step - loss: 0.7870 - val_loss: 0.7859\n",
            "Epoch 11/100\n",
            "142154/142154 [==============================] - 2s 16us/step - loss: 0.7850 - val_loss: 0.7840\n",
            "Epoch 12/100\n",
            "142154/142154 [==============================] - 2s 16us/step - loss: 0.7834 - val_loss: 0.7826\n",
            "Epoch 13/100\n",
            "142154/142154 [==============================] - 2s 16us/step - loss: 0.7821 - val_loss: 0.7814\n",
            "Epoch 14/100\n",
            "142154/142154 [==============================] - 2s 17us/step - loss: 0.7810 - val_loss: 0.7805\n",
            "Epoch 15/100\n",
            "142154/142154 [==============================] - 3s 18us/step - loss: 0.7801 - val_loss: 0.7795\n",
            "Epoch 16/100\n",
            "142154/142154 [==============================] - 2s 17us/step - loss: 0.7793 - val_loss: 0.7788\n",
            "Epoch 17/100\n",
            "142154/142154 [==============================] - 2s 17us/step - loss: 0.7786 - val_loss: 0.7783\n",
            "Epoch 18/100\n",
            "142154/142154 [==============================] - 2s 16us/step - loss: 0.7780 - val_loss: 0.7777\n",
            "Epoch 19/100\n",
            "142154/142154 [==============================] - 2s 16us/step - loss: 0.7775 - val_loss: 0.7772\n",
            "Epoch 20/100\n",
            "142154/142154 [==============================] - 2s 16us/step - loss: 0.7770 - val_loss: 0.7767\n",
            "Epoch 21/100\n",
            "142154/142154 [==============================] - 2s 16us/step - loss: 0.7766 - val_loss: 0.7763\n",
            "Epoch 22/100\n",
            "142154/142154 [==============================] - 2s 16us/step - loss: 0.7762 - val_loss: 0.7759\n",
            "Epoch 23/100\n",
            "142154/142154 [==============================] - 2s 16us/step - loss: 0.7759 - val_loss: 0.7757\n",
            "Epoch 24/100\n",
            "142154/142154 [==============================] - 2s 16us/step - loss: 0.7755 - val_loss: 0.7752\n",
            "Epoch 25/100\n",
            "142154/142154 [==============================] - 2s 15us/step - loss: 0.7752 - val_loss: 0.7750\n",
            "Epoch 26/100\n",
            "142154/142154 [==============================] - 2s 16us/step - loss: 0.7749 - val_loss: 0.7747\n",
            "Epoch 27/100\n",
            "142154/142154 [==============================] - 2s 16us/step - loss: 0.7746 - val_loss: 0.7744\n",
            "Epoch 28/100\n",
            "142154/142154 [==============================] - 2s 16us/step - loss: 0.7744 - val_loss: 0.7743\n",
            "Epoch 29/100\n",
            "142154/142154 [==============================] - 2s 16us/step - loss: 0.7741 - val_loss: 0.7740\n",
            "Epoch 30/100\n",
            "142154/142154 [==============================] - 2s 16us/step - loss: 0.7739 - val_loss: 0.7736\n",
            "Epoch 31/100\n",
            "142154/142154 [==============================] - 2s 16us/step - loss: 0.7736 - val_loss: 0.7735\n",
            "Epoch 32/100\n",
            "142154/142154 [==============================] - 2s 16us/step - loss: 0.7734 - val_loss: 0.7732\n",
            "Epoch 33/100\n",
            "142154/142154 [==============================] - 2s 16us/step - loss: 0.7732 - val_loss: 0.7733\n",
            "Epoch 34/100\n",
            "142154/142154 [==============================] - 2s 16us/step - loss: 0.7730 - val_loss: 0.7731\n",
            "Epoch 35/100\n",
            "142154/142154 [==============================] - 2s 16us/step - loss: 0.7728 - val_loss: 0.7726\n",
            "Epoch 36/100\n",
            "142154/142154 [==============================] - 2s 16us/step - loss: 0.7726 - val_loss: 0.7724\n",
            "Epoch 37/100\n",
            "142154/142154 [==============================] - 2s 16us/step - loss: 0.7724 - val_loss: 0.7722\n",
            "Epoch 38/100\n",
            "142154/142154 [==============================] - 2s 16us/step - loss: 0.7723 - val_loss: 0.7729\n",
            "Epoch 39/100\n",
            "142154/142154 [==============================] - 2s 15us/step - loss: 0.7721 - val_loss: 0.7724\n",
            "Epoch 40/100\n",
            "142154/142154 [==============================] - 2s 16us/step - loss: 0.7719 - val_loss: 0.7719\n",
            "Epoch 41/100\n",
            "142154/142154 [==============================] - 2s 15us/step - loss: 0.7718 - val_loss: 0.7719\n",
            "Epoch 42/100\n",
            "142154/142154 [==============================] - 2s 15us/step - loss: 0.7717 - val_loss: 0.7717\n",
            "Epoch 43/100\n",
            "142154/142154 [==============================] - 2s 16us/step - loss: 0.7716 - val_loss: 0.7718\n",
            "Epoch 44/100\n",
            "142154/142154 [==============================] - 2s 15us/step - loss: 0.7714 - val_loss: 0.7713\n",
            "Epoch 45/100\n",
            "142154/142154 [==============================] - 2s 16us/step - loss: 0.7713 - val_loss: 0.7711\n",
            "Epoch 46/100\n",
            "142154/142154 [==============================] - 2s 16us/step - loss: 0.7711 - val_loss: 0.7710\n",
            "Epoch 47/100\n",
            "142154/142154 [==============================] - 2s 16us/step - loss: 0.7711 - val_loss: 0.7709\n",
            "Epoch 48/100\n",
            "142154/142154 [==============================] - 2s 15us/step - loss: 0.7710 - val_loss: 0.7708\n",
            "Epoch 49/100\n",
            "142154/142154 [==============================] - 2s 16us/step - loss: 0.7709 - val_loss: 0.7706\n",
            "Epoch 50/100\n",
            "142154/142154 [==============================] - 2s 16us/step - loss: 0.7708 - val_loss: 0.7707\n",
            "Epoch 51/100\n",
            "142154/142154 [==============================] - 2s 15us/step - loss: 0.7706 - val_loss: 0.7705\n",
            "Epoch 52/100\n",
            "142154/142154 [==============================] - 2s 16us/step - loss: 0.7706 - val_loss: 0.7705\n",
            "Epoch 53/100\n",
            "142154/142154 [==============================] - 2s 15us/step - loss: 0.7705 - val_loss: 0.7703\n",
            "Epoch 54/100\n",
            "142154/142154 [==============================] - 2s 16us/step - loss: 0.7704 - val_loss: 0.7702\n",
            "Epoch 55/100\n",
            "142154/142154 [==============================] - 2s 16us/step - loss: 0.7703 - val_loss: 0.7701\n",
            "Epoch 56/100\n",
            "142154/142154 [==============================] - 2s 16us/step - loss: 0.7702 - val_loss: 0.7700\n",
            "Epoch 57/100\n",
            "142154/142154 [==============================] - 2s 16us/step - loss: 0.7701 - val_loss: 0.7699\n",
            "Epoch 58/100\n",
            "142154/142154 [==============================] - 2s 16us/step - loss: 0.7700 - val_loss: 0.7699\n",
            "Epoch 59/100\n",
            "142154/142154 [==============================] - 2s 16us/step - loss: 0.7699 - val_loss: 0.7700\n",
            "Epoch 60/100\n",
            "142154/142154 [==============================] - 2s 16us/step - loss: 0.7698 - val_loss: 0.7695\n",
            "Epoch 61/100\n",
            "142154/142154 [==============================] - 2s 16us/step - loss: 0.7697 - val_loss: 0.7695\n",
            "Epoch 62/100\n",
            "142154/142154 [==============================] - 2s 16us/step - loss: 0.7695 - val_loss: 0.7695\n",
            "Epoch 63/100\n",
            "142154/142154 [==============================] - 2s 16us/step - loss: 0.7694 - val_loss: 0.7695\n",
            "Epoch 64/100\n",
            "142154/142154 [==============================] - 2s 16us/step - loss: 0.7694 - val_loss: 0.7694\n",
            "Epoch 65/100\n",
            "142154/142154 [==============================] - 2s 15us/step - loss: 0.7693 - val_loss: 0.7691\n",
            "Epoch 66/100\n",
            "142154/142154 [==============================] - 2s 16us/step - loss: 0.7692 - val_loss: 0.7690\n",
            "Epoch 67/100\n",
            "142154/142154 [==============================] - 2s 16us/step - loss: 0.7691 - val_loss: 0.7689\n",
            "Epoch 68/100\n",
            "142154/142154 [==============================] - 2s 16us/step - loss: 0.7691 - val_loss: 0.7689\n",
            "Epoch 69/100\n",
            "142154/142154 [==============================] - 2s 16us/step - loss: 0.7690 - val_loss: 0.7688\n",
            "Epoch 70/100\n",
            "142154/142154 [==============================] - 2s 16us/step - loss: 0.7689 - val_loss: 0.7689\n",
            "Epoch 71/100\n",
            "142154/142154 [==============================] - 2s 15us/step - loss: 0.7689 - val_loss: 0.7687\n",
            "Epoch 72/100\n",
            "142154/142154 [==============================] - 2s 16us/step - loss: 0.7688 - val_loss: 0.7686\n",
            "Epoch 73/100\n",
            "142154/142154 [==============================] - 2s 15us/step - loss: 0.7687 - val_loss: 0.7697\n",
            "Epoch 74/100\n",
            "142154/142154 [==============================] - 2s 15us/step - loss: 0.7688 - val_loss: 0.7686\n",
            "Epoch 75/100\n",
            "142154/142154 [==============================] - 2s 16us/step - loss: 0.7687 - val_loss: 0.7685\n",
            "Epoch 76/100\n",
            "142154/142154 [==============================] - 2s 16us/step - loss: 0.7686 - val_loss: 0.7685\n",
            "Epoch 77/100\n",
            "142154/142154 [==============================] - 2s 16us/step - loss: 0.7686 - val_loss: 0.7684\n",
            "Epoch 78/100\n",
            "142154/142154 [==============================] - 2s 16us/step - loss: 0.7686 - val_loss: 0.7683\n",
            "Epoch 79/100\n",
            "142154/142154 [==============================] - 2s 16us/step - loss: 0.7685 - val_loss: 0.7685\n",
            "Epoch 80/100\n",
            "142154/142154 [==============================] - 2s 15us/step - loss: 0.7685 - val_loss: 0.7685\n",
            "Epoch 81/100\n",
            "142154/142154 [==============================] - 2s 15us/step - loss: 0.7684 - val_loss: 0.7685\n",
            "Epoch 82/100\n",
            "142154/142154 [==============================] - 2s 16us/step - loss: 0.7685 - val_loss: 0.7682\n",
            "Epoch 83/100\n",
            "142154/142154 [==============================] - 2s 16us/step - loss: 0.7684 - val_loss: 0.7684\n",
            "Epoch 84/100\n",
            "142154/142154 [==============================] - 2s 16us/step - loss: 0.7683 - val_loss: 0.7682\n",
            "Epoch 85/100\n",
            "142154/142154 [==============================] - 2s 16us/step - loss: 0.7684 - val_loss: 0.7682\n",
            "Epoch 86/100\n",
            "142154/142154 [==============================] - 2s 16us/step - loss: 0.7683 - val_loss: 0.7682\n",
            "Epoch 87/100\n",
            "142154/142154 [==============================] - 2s 16us/step - loss: 0.7683 - val_loss: 0.7682\n",
            "Epoch 88/100\n",
            "142154/142154 [==============================] - 2s 16us/step - loss: 0.7683 - val_loss: 0.7682\n",
            "Epoch 89/100\n",
            "142154/142154 [==============================] - 2s 16us/step - loss: 0.7682 - val_loss: 0.7681\n",
            "Epoch 90/100\n",
            "142154/142154 [==============================] - 2s 16us/step - loss: 0.7682 - val_loss: 0.7682\n",
            "Epoch 91/100\n",
            "142154/142154 [==============================] - 2s 17us/step - loss: 0.7682 - val_loss: 0.7680\n",
            "Epoch 92/100\n",
            "142154/142154 [==============================] - 2s 17us/step - loss: 0.7682 - val_loss: 0.7680\n",
            "Epoch 93/100\n",
            "142154/142154 [==============================] - 2s 18us/step - loss: 0.7681 - val_loss: 0.7680\n",
            "Epoch 94/100\n",
            "142154/142154 [==============================] - 3s 18us/step - loss: 0.7681 - val_loss: 0.7680\n",
            "Epoch 95/100\n",
            "142154/142154 [==============================] - 2s 16us/step - loss: 0.7681 - val_loss: 0.7682\n",
            "Epoch 96/100\n",
            "142154/142154 [==============================] - 2s 17us/step - loss: 0.7681 - val_loss: 0.7679\n",
            "Epoch 97/100\n",
            "142154/142154 [==============================] - 2s 17us/step - loss: 0.7681 - val_loss: 0.7692\n",
            "Epoch 98/100\n",
            "142154/142154 [==============================] - 2s 16us/step - loss: 0.7680 - val_loss: 0.7679\n",
            "Epoch 99/100\n",
            "142154/142154 [==============================] - 2s 16us/step - loss: 0.7680 - val_loss: 0.7678\n",
            "Epoch 100/100\n",
            "142154/142154 [==============================] - 2s 16us/step - loss: 0.7679 - val_loss: 0.7679\n"
          ],
          "name": "stdout"
        },
        {
          "output_type": "execute_result",
          "data": {
            "text/plain": [
              "<keras.callbacks.History at 0x7fb6e98a45c0>"
            ]
          },
          "metadata": {
            "tags": []
          },
          "execution_count": 14
        }
      ]
    },
    {
      "cell_type": "code",
      "metadata": {
        "id": "qzcu7y3nxsw3",
        "colab_type": "code",
        "outputId": "462eb8f7-766c-4530-a59e-5c0d20221c79",
        "colab": {
          "base_uri": "https://localhost:8080/",
          "height": 175
        }
      },
      "source": [
        "predictions = autoencoder.predict(X_train)\n",
        "mse = np.mean(np.power(X_train - predictions, 2), axis=1)\n",
        "error_df = pd.DataFrame({'reconstruction_error': mse,\n",
        "                        'true_class': y_train})\n",
        "error_df.groupby('true_class').describe()"
      ],
      "execution_count": 0,
      "outputs": [
        {
          "output_type": "execute_result",
          "data": {
            "text/html": [
              "<div>\n",
              "<style scoped>\n",
              "    .dataframe tbody tr th:only-of-type {\n",
              "        vertical-align: middle;\n",
              "    }\n",
              "\n",
              "    .dataframe tbody tr th {\n",
              "        vertical-align: top;\n",
              "    }\n",
              "\n",
              "    .dataframe thead tr th {\n",
              "        text-align: left;\n",
              "    }\n",
              "\n",
              "    .dataframe thead tr:last-of-type th {\n",
              "        text-align: right;\n",
              "    }\n",
              "</style>\n",
              "<table border=\"1\" class=\"dataframe\">\n",
              "  <thead>\n",
              "    <tr>\n",
              "      <th></th>\n",
              "      <th colspan=\"8\" halign=\"left\">reconstruction_error</th>\n",
              "    </tr>\n",
              "    <tr>\n",
              "      <th></th>\n",
              "      <th>count</th>\n",
              "      <th>mean</th>\n",
              "      <th>std</th>\n",
              "      <th>min</th>\n",
              "      <th>25%</th>\n",
              "      <th>50%</th>\n",
              "      <th>75%</th>\n",
              "      <th>max</th>\n",
              "    </tr>\n",
              "    <tr>\n",
              "      <th>true_class</th>\n",
              "      <th></th>\n",
              "      <th></th>\n",
              "      <th></th>\n",
              "      <th></th>\n",
              "      <th></th>\n",
              "      <th></th>\n",
              "      <th></th>\n",
              "      <th></th>\n",
              "    </tr>\n",
              "  </thead>\n",
              "  <tbody>\n",
              "    <tr>\n",
              "      <th>0</th>\n",
              "      <td>142154.0</td>\n",
              "      <td>0.767880</td>\n",
              "      <td>3.450104</td>\n",
              "      <td>0.035931</td>\n",
              "      <td>0.228557</td>\n",
              "      <td>0.392122</td>\n",
              "      <td>0.643921</td>\n",
              "      <td>318.131716</td>\n",
              "    </tr>\n",
              "    <tr>\n",
              "      <th>1</th>\n",
              "      <td>249.0</td>\n",
              "      <td>30.083915</td>\n",
              "      <td>43.130395</td>\n",
              "      <td>0.147219</td>\n",
              "      <td>4.340452</td>\n",
              "      <td>10.835179</td>\n",
              "      <td>27.215024</td>\n",
              "      <td>281.932668</td>\n",
              "    </tr>\n",
              "  </tbody>\n",
              "</table>\n",
              "</div>"
            ],
            "text/plain": [
              "           reconstruction_error             ...                       \n",
              "                          count       mean  ...        75%         max\n",
              "true_class                                  ...                       \n",
              "0                      142154.0   0.767880  ...   0.643921  318.131716\n",
              "1                         249.0  30.083915  ...  27.215024  281.932668\n",
              "\n",
              "[2 rows x 8 columns]"
            ]
          },
          "metadata": {
            "tags": []
          },
          "execution_count": 15
        }
      ]
    },
    {
      "cell_type": "code",
      "metadata": {
        "id": "-zAII8DQxw-B",
        "colab_type": "code",
        "colab": {}
      },
      "source": [
        "test_predictions=autoencoder.predict(X_test)\n",
        "mse = np.mean(np.power(X_test - test_predictions, 2), axis=1)\n",
        "y_pred=[(lambda er: 1 if er>=11.078922  else 0)(er) for er in mse]"
      ],
      "execution_count": 0,
      "outputs": []
    },
    {
      "cell_type": "code",
      "metadata": {
        "id": "mZ4V1lfb46jQ",
        "colab_type": "code",
        "outputId": "989fc0b8-2d45-4a5d-b8fc-b9254c0b966b",
        "colab": {
          "base_uri": "https://localhost:8080/",
          "height": 295
        }
      },
      "source": [
        "conf_matrix = metrics.confusion_matrix(y_test,y_pred)\n",
        "\n",
        "ax=plt.subplot()\n",
        "sns.heatmap(conf_matrix,annot=True,ax=ax,fmt='g')#annot=True to annotate cells, fmt='g' numbers not scientific form\n",
        "ax.set_xlabel('Predicted labels'); ax.set_ylabel('True labels')\n",
        "ax.set_title('Confusion Matrix'); \n",
        "ax.xaxis.set_ticklabels(['Normal', 'Fraud']); ax.yaxis.set_ticklabels(['Normal', 'Fraud']);"
      ],
      "execution_count": 0,
      "outputs": [
        {
          "output_type": "display_data",
          "data": {
            "image/png": "[encoded data removed]",
            "text/plain": [
              "<Figure size 432x288 with 2 Axes>"
            ]
          },
          "metadata": {
            "tags": []
          }
        }
      ]
    },
    {
      "cell_type": "code",
      "metadata": {
        "id": "9Gvh2H-PzyyE",
        "colab_type": "code",
        "outputId": "689a423b-45af-42be-d674-5343b2b193c5",
        "colab": {
          "base_uri": "https://localhost:8080/",
          "height": 295
        }
      },
      "source": [
        "test_error_df = pd.DataFrame({'reconstruction_error': mse,\n",
        "                        'true_class': y_test})\n",
        "fpr, tpr, thresholds = metrics.roc_curve(test_error_df.true_class, test_error_df.reconstruction_error)\n",
        "roc_auc = metrics.auc(fpr, tpr)\n",
        "plt.figure()\n",
        "plt.title('Receiver Operating Characteristic')\n",
        "plt.plot(fpr, tpr, label='AUC = %0.4f'% roc_auc)\n",
        "plt.legend(loc='lower right')\n",
        "plt.plot([0,1],[0,1],'r--')\n",
        "plt.xlim([-0.001, 1])\n",
        "plt.ylim([0, 1.001])\n",
        "plt.ylabel('True Positive Rate')\n",
        "plt.xlabel('False Positive Rate')\n",
        "plt.show();\n",
        "plt.show()"
      ],
      "execution_count": 0,
      "outputs": [
        {
          "output_type": "display_data",
          "data": {
            "image/png": "[encoded data removed]",
            "text/plain": [
              "<Figure size 432x288 with 1 Axes>"
            ]
          },
          "metadata": {
            "tags": []
          }
        }
      ]
    },
    {
      "cell_type": "code",
      "metadata": {
        "id": "4ShG2o4h2GQq",
        "colab_type": "code",
        "colab": {}
      },
      "source": [
        "test_error_df = pd.DataFrame({'reconstruction_error': mse,\n",
        "                        'true_class': y_test})"
      ],
      "execution_count": 0,
      "outputs": []
    },
    {
      "cell_type": "markdown",
      "metadata": {
        "id": "suwllvy888Z7",
        "colab_type": "text"
      },
      "source": [
        "# k-NN"
      ]
    },
    {
      "cell_type": "code",
      "metadata": {
        "id": "9MntASWT9EYJ",
        "colab_type": "code",
        "colab": {}
      },
      "source": [
        "encoder = Model(input_layer,encoded)\n",
        "enc = encoder.predict(X_train)"
      ],
      "execution_count": 0,
      "outputs": []
    },
    {
      "cell_type": "code",
      "metadata": {
        "id": "iix7bOJQ5gxc",
        "colab_type": "code",
        "colab": {}
      },
      "source": [
        "from sklearn.neighbors import KNeighborsClassifier"
      ],
      "execution_count": 0,
      "outputs": []
    },
    {
      "cell_type": "code",
      "metadata": {
        "id": "CaDHQXxt5iCg",
        "colab_type": "code",
        "colab": {}
      },
      "source": [
        "knn_model = KNeighborsClassifier(n_neighbors=3)"
      ],
      "execution_count": 0,
      "outputs": []
    },
    {
      "cell_type": "code",
      "metadata": {
        "id": "YjqB805u9XqF",
        "colab_type": "code",
        "outputId": "d9ed05a9-22b4-4e0f-9ad1-7df45e300eb0",
        "colab": {
          "base_uri": "https://localhost:8080/",
          "height": 72
        }
      },
      "source": [
        "# Train the model using the training sets\n",
        "knn_model.fit(enc,y_train)"
      ],
      "execution_count": 0,
      "outputs": [
        {
          "output_type": "execute_result",
          "data": {
            "text/plain": [
              "KNeighborsClassifier(algorithm='auto', leaf_size=30, metric='minkowski',\n",
              "                     metric_params=None, n_jobs=None, n_neighbors=3, p=2,\n",
              "                     weights='uniform')"
            ]
          },
          "metadata": {
            "tags": []
          },
          "execution_count": 23
        }
      ]
    },
    {
      "cell_type": "code",
      "metadata": {
        "id": "wfjcaVJl9ekx",
        "colab_type": "code",
        "colab": {}
      },
      "source": [
        "knn_predicted= knn_model.predict(encoder.predict(X_test)[y_test==1,])"
      ],
      "execution_count": 0,
      "outputs": []
    },
    {
      "cell_type": "code",
      "metadata": {
        "id": "FlFRqy8r9y-F",
        "colab_type": "code",
        "outputId": "d9faf1a4-e678-4ca1-ac6b-c3543e331be2",
        "colab": {
          "base_uri": "https://localhost:8080/",
          "height": 164
        }
      },
      "source": [
        "print(knn_predicted)\n",
        "print(sum(knn_predicted)/sum(y_test[y_test==1]))\n"
      ],
      "execution_count": 0,
      "outputs": [
        {
          "output_type": "stream",
          "text": [
            "[1 1 1 0 0 0 1 0 1 1 1 1 1 1 1 1 1 0 0 0 1 1 1 1 1 1 1 1 1 0 1 1 0 0 0 0 1\n",
            " 1 1 1 1 0 1 1 0 1 1 1 1 1 0 0 0 1 1 1 1 1 1 0 1 1 0 1 0 1 0 1 1 1 1 1 1 1\n",
            " 1 1 1 1 1 1 1 0 1 0 1 1 1 0 1 0 1 1 1 1 1 1 1 1 1 1 1 1 0 1 0 0 1 1 1 1 1\n",
            " 1 0 1 1 1 1 1 1 0 1 1 1 1 0 1 1 0 1 1 0 1 1 1 0 0 1 1 0 1 0 0 1 1 1 1 1 1\n",
            " 1 0 1 1 1 0 0 1 1 1 1 1 1 1 1 0 1 1 1 1 1 0 1 1 0 1 1 0 1 1 1 0 0 1 0 1 1\n",
            " 1 1 1 1 1 1 1 1 1 1 0 1 0 1 0 0 1 0 1 0 1 1 0 1 1 1 1 0 1 0 0 1 1 1 1 0 0\n",
            " 1 1 1 1 1 1 0 1 1 0 1 0 1 1 1 1 1 0 0 1 1]\n",
            "0.7325102880658436\n"
          ],
          "name": "stdout"
        }
      ]
    },
    {
      "cell_type": "code",
      "metadata": {
        "id": "80H7xbeSBvWc",
        "colab_type": "code",
        "outputId": "2f501320-c110-42fa-a329-424b4dbc753b",
        "colab": {
          "base_uri": "https://localhost:8080/",
          "height": 54
        }
      },
      "source": [
        "%%time\n",
        "knn_predicted= knn_model.predict(encoder.predict(X_test))"
      ],
      "execution_count": 0,
      "outputs": [
        {
          "output_type": "stream",
          "text": [
            "CPU times: user 39.3 s, sys: 90 ms, total: 39.4 s\n",
            "Wall time: 39.1 s\n"
          ],
          "name": "stdout"
        }
      ]
    },
    {
      "cell_type": "code",
      "metadata": {
        "id": "6aVN3Qe-D3Oz",
        "colab_type": "code",
        "outputId": "c238f2da-94e0-436e-d091-d7383b4aa497",
        "colab": {
          "base_uri": "https://localhost:8080/",
          "height": 295
        }
      },
      "source": [
        "conf_matrix = metrics.confusion_matrix(y_test,knn_predicted)\n",
        "\n",
        "ax=plt.subplot()\n",
        "sns.heatmap(conf_matrix,annot=True,ax=ax,fmt='g')#annot=True to annotate cells, fmt='g' numbers not scientific form\n",
        "ax.set_xlabel('Predicted labels'); ax.set_ylabel('True labels')\n",
        "ax.set_title('Confusion Matrix'); \n",
        "ax.xaxis.set_ticklabels(['Normal', 'Fraud']); ax.yaxis.set_ticklabels(['Normal', 'Fraud']);"
      ],
      "execution_count": 0,
      "outputs": [
        {
          "output_type": "display_data",
          "data": {
            "image/png": "[encoded data removed]",
            "text/plain": [
              "<Figure size 432x288 with 2 Axes>"
            ]
          },
          "metadata": {
            "tags": []
          }
        }
      ]
    }
  ]
}