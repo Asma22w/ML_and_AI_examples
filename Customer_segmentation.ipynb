{
  "nbformat": 4,
  "nbformat_minor": 0,
  "metadata": {
    "colab": {
      "name": "Customer_segmentation.ipynb",
      "version": "0.3.2",
      "provenance": [],
      "collapsed_sections": [],
      "include_colab_link": true
    },
    "kernelspec": {
      "name": "python3",
      "display_name": "Python 3"
    }
  },
  "cells": [
    {
      "cell_type": "markdown",
      "metadata": {
        "id": "view-in-github",
        "colab_type": "text"
      },
      "source": [
        "<a href=\"https://colab.research.google.com/github/dpanagop/ML_and_AI_examples/blob/master/Customer_segmentation.ipynb\" target=\"_parent\"><img src=\"https://colab.research.google.com/assets/colab-badge.svg\" alt=\"Open In Colab\"/></a>"
      ]
    },
    {
      "cell_type": "markdown",
      "metadata": {
        "id": "YbF9C_0HTtCt",
        "colab_type": "text"
      },
      "source": [
        "#Load pandas,numpy,matplotlib and numpy.stats libraries"
      ]
    },
    {
      "cell_type": "code",
      "metadata": {
        "id": "o1Y2cZUjlvmK",
        "colab_type": "code",
        "colab": {}
      },
      "source": [
        "import pandas as pd\n",
        "from scipy import stats\n",
        "import numpy as np\n",
        "#from sklearn import preprocessing\n",
        "import matplotlib.pyplot as plt"
      ],
      "execution_count": 0,
      "outputs": []
    },
    {
      "cell_type": "markdown",
      "metadata": {
        "id": "nL3JZZiyUB3Q",
        "colab_type": "text"
      },
      "source": [
        "#Load and examine data from UCI website "
      ]
    },
    {
      "cell_type": "code",
      "metadata": {
        "id": "IFaUdSXjmEVt",
        "colab_type": "code",
        "colab": {}
      },
      "source": [
        "url=\"https://archive.ics.uci.edu/ml/machine-learning-databases/00292/Wholesale%20customers%20data.csv\"\n",
        "dat=pd.read_csv(url)"
      ],
      "execution_count": 0,
      "outputs": []
    },
    {
      "cell_type": "markdown",
      "metadata": {
        "id": "tZpNYwAGUHyH",
        "colab_type": "text"
      },
      "source": [
        "###Examine first rows of dataset"
      ]
    },
    {
      "cell_type": "code",
      "metadata": {
        "id": "9XXls62Bmc1J",
        "colab_type": "code",
        "outputId": "404ce359-0911-47e7-cc1c-62ef6f2ef53e",
        "colab": {
          "base_uri": "https://localhost:8080/",
          "height": 206
        }
      },
      "source": [
        "dat.head()"
      ],
      "execution_count": 3,
      "outputs": [
        {
          "output_type": "execute_result",
          "data": {
            "text/html": [
              "<div>\n",
              "<style scoped>\n",
              "    .dataframe tbody tr th:only-of-type {\n",
              "        vertical-align: middle;\n",
              "    }\n",
              "\n",
              "    .dataframe tbody tr th {\n",
              "        vertical-align: top;\n",
              "    }\n",
              "\n",
              "    .dataframe thead th {\n",
              "        text-align: right;\n",
              "    }\n",
              "</style>\n",
              "<table border=\"1\" class=\"dataframe\">\n",
              "  <thead>\n",
              "    <tr style=\"text-align: right;\">\n",
              "      <th></th>\n",
              "      <th>Channel</th>\n",
              "      <th>Region</th>\n",
              "      <th>Fresh</th>\n",
              "      <th>Milk</th>\n",
              "      <th>Grocery</th>\n",
              "      <th>Frozen</th>\n",
              "      <th>Detergents_Paper</th>\n",
              "      <th>Delicassen</th>\n",
              "    </tr>\n",
              "  </thead>\n",
              "  <tbody>\n",
              "    <tr>\n",
              "      <th>0</th>\n",
              "      <td>2</td>\n",
              "      <td>3</td>\n",
              "      <td>12669</td>\n",
              "      <td>9656</td>\n",
              "      <td>7561</td>\n",
              "      <td>214</td>\n",
              "      <td>2674</td>\n",
              "      <td>1338</td>\n",
              "    </tr>\n",
              "    <tr>\n",
              "      <th>1</th>\n",
              "      <td>2</td>\n",
              "      <td>3</td>\n",
              "      <td>7057</td>\n",
              "      <td>9810</td>\n",
              "      <td>9568</td>\n",
              "      <td>1762</td>\n",
              "      <td>3293</td>\n",
              "      <td>1776</td>\n",
              "    </tr>\n",
              "    <tr>\n",
              "      <th>2</th>\n",
              "      <td>2</td>\n",
              "      <td>3</td>\n",
              "      <td>6353</td>\n",
              "      <td>8808</td>\n",
              "      <td>7684</td>\n",
              "      <td>2405</td>\n",
              "      <td>3516</td>\n",
              "      <td>7844</td>\n",
              "    </tr>\n",
              "    <tr>\n",
              "      <th>3</th>\n",
              "      <td>1</td>\n",
              "      <td>3</td>\n",
              "      <td>13265</td>\n",
              "      <td>1196</td>\n",
              "      <td>4221</td>\n",
              "      <td>6404</td>\n",
              "      <td>507</td>\n",
              "      <td>1788</td>\n",
              "    </tr>\n",
              "    <tr>\n",
              "      <th>4</th>\n",
              "      <td>2</td>\n",
              "      <td>3</td>\n",
              "      <td>22615</td>\n",
              "      <td>5410</td>\n",
              "      <td>7198</td>\n",
              "      <td>3915</td>\n",
              "      <td>1777</td>\n",
              "      <td>5185</td>\n",
              "    </tr>\n",
              "  </tbody>\n",
              "</table>\n",
              "</div>"
            ],
            "text/plain": [
              "   Channel  Region  Fresh  Milk  Grocery  Frozen  Detergents_Paper  Delicassen\n",
              "0        2       3  12669  9656     7561     214              2674        1338\n",
              "1        2       3   7057  9810     9568    1762              3293        1776\n",
              "2        2       3   6353  8808     7684    2405              3516        7844\n",
              "3        1       3  13265  1196     4221    6404               507        1788\n",
              "4        2       3  22615  5410     7198    3915              1777        5185"
            ]
          },
          "metadata": {
            "tags": []
          },
          "execution_count": 3
        }
      ]
    },
    {
      "cell_type": "markdown",
      "metadata": {
        "id": "DssIw6FxUZtN",
        "colab_type": "text"
      },
      "source": [
        "###With *info* command, we can see the types of our variables and the number of completed records for each one of them"
      ]
    },
    {
      "cell_type": "code",
      "metadata": {
        "id": "IIUu7iKFme7u",
        "colab_type": "code",
        "outputId": "a987d26f-efef-4743-c40a-55cd4a18a768",
        "colab": {
          "base_uri": "https://localhost:8080/",
          "height": 256
        }
      },
      "source": [
        "dat.info()"
      ],
      "execution_count": 4,
      "outputs": [
        {
          "output_type": "stream",
          "text": [
            "<class 'pandas.core.frame.DataFrame'>\n",
            "RangeIndex: 440 entries, 0 to 439\n",
            "Data columns (total 8 columns):\n",
            "Channel             440 non-null int64\n",
            "Region              440 non-null int64\n",
            "Fresh               440 non-null int64\n",
            "Milk                440 non-null int64\n",
            "Grocery             440 non-null int64\n",
            "Frozen              440 non-null int64\n",
            "Detergents_Paper    440 non-null int64\n",
            "Delicassen          440 non-null int64\n",
            "dtypes: int64(8)\n",
            "memory usage: 27.6 KB\n"
          ],
          "name": "stdout"
        }
      ]
    },
    {
      "cell_type": "markdown",
      "metadata": {
        "id": "fpJffGOKVHoe",
        "colab_type": "text"
      },
      "source": [
        "###while with *describe* command, we calculate the basic statistics for our variables"
      ]
    },
    {
      "cell_type": "code",
      "metadata": {
        "id": "eBiuzNoansbY",
        "colab_type": "code",
        "outputId": "67b75898-511d-4dde-eb0e-faba369f7248",
        "colab": {
          "base_uri": "https://localhost:8080/",
          "height": 320
        }
      },
      "source": [
        "dat.describe()"
      ],
      "execution_count": 5,
      "outputs": [
        {
          "output_type": "execute_result",
          "data": {
            "text/html": [
              "<div>\n",
              "<style scoped>\n",
              "    .dataframe tbody tr th:only-of-type {\n",
              "        vertical-align: middle;\n",
              "    }\n",
              "\n",
              "    .dataframe tbody tr th {\n",
              "        vertical-align: top;\n",
              "    }\n",
              "\n",
              "    .dataframe thead th {\n",
              "        text-align: right;\n",
              "    }\n",
              "</style>\n",
              "<table border=\"1\" class=\"dataframe\">\n",
              "  <thead>\n",
              "    <tr style=\"text-align: right;\">\n",
              "      <th></th>\n",
              "      <th>Channel</th>\n",
              "      <th>Region</th>\n",
              "      <th>Fresh</th>\n",
              "      <th>Milk</th>\n",
              "      <th>Grocery</th>\n",
              "      <th>Frozen</th>\n",
              "      <th>Detergents_Paper</th>\n",
              "      <th>Delicassen</th>\n",
              "    </tr>\n",
              "  </thead>\n",
              "  <tbody>\n",
              "    <tr>\n",
              "      <th>count</th>\n",
              "      <td>440.000000</td>\n",
              "      <td>440.000000</td>\n",
              "      <td>440.000000</td>\n",
              "      <td>440.000000</td>\n",
              "      <td>440.000000</td>\n",
              "      <td>440.000000</td>\n",
              "      <td>440.000000</td>\n",
              "      <td>440.000000</td>\n",
              "    </tr>\n",
              "    <tr>\n",
              "      <th>mean</th>\n",
              "      <td>1.322727</td>\n",
              "      <td>2.543182</td>\n",
              "      <td>12000.297727</td>\n",
              "      <td>5796.265909</td>\n",
              "      <td>7951.277273</td>\n",
              "      <td>3071.931818</td>\n",
              "      <td>2881.493182</td>\n",
              "      <td>1524.870455</td>\n",
              "    </tr>\n",
              "    <tr>\n",
              "      <th>std</th>\n",
              "      <td>0.468052</td>\n",
              "      <td>0.774272</td>\n",
              "      <td>12647.328865</td>\n",
              "      <td>7380.377175</td>\n",
              "      <td>9503.162829</td>\n",
              "      <td>4854.673333</td>\n",
              "      <td>4767.854448</td>\n",
              "      <td>2820.105937</td>\n",
              "    </tr>\n",
              "    <tr>\n",
              "      <th>min</th>\n",
              "      <td>1.000000</td>\n",
              "      <td>1.000000</td>\n",
              "      <td>3.000000</td>\n",
              "      <td>55.000000</td>\n",
              "      <td>3.000000</td>\n",
              "      <td>25.000000</td>\n",
              "      <td>3.000000</td>\n",
              "      <td>3.000000</td>\n",
              "    </tr>\n",
              "    <tr>\n",
              "      <th>25%</th>\n",
              "      <td>1.000000</td>\n",
              "      <td>2.000000</td>\n",
              "      <td>3127.750000</td>\n",
              "      <td>1533.000000</td>\n",
              "      <td>2153.000000</td>\n",
              "      <td>742.250000</td>\n",
              "      <td>256.750000</td>\n",
              "      <td>408.250000</td>\n",
              "    </tr>\n",
              "    <tr>\n",
              "      <th>50%</th>\n",
              "      <td>1.000000</td>\n",
              "      <td>3.000000</td>\n",
              "      <td>8504.000000</td>\n",
              "      <td>3627.000000</td>\n",
              "      <td>4755.500000</td>\n",
              "      <td>1526.000000</td>\n",
              "      <td>816.500000</td>\n",
              "      <td>965.500000</td>\n",
              "    </tr>\n",
              "    <tr>\n",
              "      <th>75%</th>\n",
              "      <td>2.000000</td>\n",
              "      <td>3.000000</td>\n",
              "      <td>16933.750000</td>\n",
              "      <td>7190.250000</td>\n",
              "      <td>10655.750000</td>\n",
              "      <td>3554.250000</td>\n",
              "      <td>3922.000000</td>\n",
              "      <td>1820.250000</td>\n",
              "    </tr>\n",
              "    <tr>\n",
              "      <th>max</th>\n",
              "      <td>2.000000</td>\n",
              "      <td>3.000000</td>\n",
              "      <td>112151.000000</td>\n",
              "      <td>73498.000000</td>\n",
              "      <td>92780.000000</td>\n",
              "      <td>60869.000000</td>\n",
              "      <td>40827.000000</td>\n",
              "      <td>47943.000000</td>\n",
              "    </tr>\n",
              "  </tbody>\n",
              "</table>\n",
              "</div>"
            ],
            "text/plain": [
              "          Channel      Region  ...  Detergents_Paper    Delicassen\n",
              "count  440.000000  440.000000  ...        440.000000    440.000000\n",
              "mean     1.322727    2.543182  ...       2881.493182   1524.870455\n",
              "std      0.468052    0.774272  ...       4767.854448   2820.105937\n",
              "min      1.000000    1.000000  ...          3.000000      3.000000\n",
              "25%      1.000000    2.000000  ...        256.750000    408.250000\n",
              "50%      1.000000    3.000000  ...        816.500000    965.500000\n",
              "75%      2.000000    3.000000  ...       3922.000000   1820.250000\n",
              "max      2.000000    3.000000  ...      40827.000000  47943.000000\n",
              "\n",
              "[8 rows x 8 columns]"
            ]
          },
          "metadata": {
            "tags": []
          },
          "execution_count": 5
        }
      ]
    },
    {
      "cell_type": "markdown",
      "metadata": {
        "id": "tkpS35kTVLIK",
        "colab_type": "text"
      },
      "source": [
        "#Preprocessing\n",
        "\n",
        "###The following code snippet, detects for every variable the records that lie beyond 4 sds from the mean\n",
        "###It is a common practise to omit these records when clustering as outliers/extreme cases"
      ]
    },
    {
      "cell_type": "code",
      "metadata": {
        "id": "sLLENx2Ymhlr",
        "colab_type": "code",
        "outputId": "eea45ec8-98cd-486b-9ddc-4d8ac175687f",
        "colab": {
          "base_uri": "https://localhost:8080/",
          "height": 276
        }
      },
      "source": [
        "headers=[ 'Fresh', 'Milk', 'Grocery', 'Frozen',\n",
        "       'Detergents_Paper', 'Delicassen']\n",
        "outliers=[]\n",
        "for hd in headers:\n",
        "  z=np.abs(stats.zscore(dat[hd]))\n",
        "  id=np.where(z>4)\n",
        "  print(\"outliers for \",hd,\":\", id)\n",
        "  outliers=np.union1d(outliers,id[0])\n",
        "  print(\"new outliers are \",outliers)\n"
      ],
      "execution_count": 6,
      "outputs": [
        {
          "output_type": "stream",
          "text": [
            "outliers for  Fresh : (array([125, 181, 284]),)\n",
            "new outliers are  [125. 181. 284.]\n",
            "outliers for  Milk : (array([ 23,  47,  61,  85,  86, 183]),)\n",
            "new outliers are  [ 23.  47.  61.  85.  86. 125. 181. 183. 284.]\n",
            "outliers for  Grocery : (array([ 47,  61,  85, 333]),)\n",
            "new outliers are  [ 23.  47.  61.  85.  86. 125. 181. 183. 284. 333.]\n",
            "outliers for  Frozen : (array([ 93, 183, 325]),)\n",
            "new outliers are  [ 23.  47.  61.  85.  86.  93. 125. 181. 183. 284. 325. 333.]\n",
            "outliers for  Detergents_Paper : (array([ 47,  61,  65,  85, 333]),)\n",
            "new outliers are  [ 23.  47.  61.  65.  85.  86.  93. 125. 181. 183. 284. 325. 333.]\n",
            "outliers for  Delicassen : (array([ 23,  71,  87, 183]),)\n",
            "new outliers are  [ 23.  47.  61.  65.  71.  85.  86.  87.  93. 125. 181. 183. 284. 325.\n",
            " 333.]\n"
          ],
          "name": "stdout"
        }
      ]
    },
    {
      "cell_type": "code",
      "metadata": {
        "id": "YpDMm6jprg-w",
        "colab_type": "code",
        "colab": {}
      },
      "source": [
        "dat=dat.drop(dat.index[outliers.astype(int)])"
      ],
      "execution_count": 0,
      "outputs": []
    },
    {
      "cell_type": "markdown",
      "metadata": {
        "id": "xulAyZSoWB4i",
        "colab_type": "text"
      },
      "source": [
        "#Hierachical clustering\n",
        "\n",
        "###First all the variables are normilised. These prevents differences in scale from messing up our clustering"
      ]
    },
    {
      "cell_type": "code",
      "metadata": {
        "id": "ig0EIqO4vYdY",
        "colab_type": "code",
        "colab": {}
      },
      "source": [
        "#First,load preprocessing from sklearn\n",
        "from sklearn import preprocessing\n",
        "x = dat.values\n",
        "min_max_scaler = preprocessing.StandardScaler()\n",
        "x_scaled = min_max_scaler.fit_transform(x)\n",
        "df = pd.DataFrame(x_scaled)"
      ],
      "execution_count": 0,
      "outputs": []
    },
    {
      "cell_type": "markdown",
      "metadata": {
        "id": "vYIRfjKJW4Zn",
        "colab_type": "text"
      },
      "source": [
        "###The normilised data look like"
      ]
    },
    {
      "cell_type": "code",
      "metadata": {
        "id": "pguPG_JUvdIt",
        "colab_type": "code",
        "outputId": "db17d648-064b-4d2c-85d9-5fbd28072e7d",
        "colab": {
          "base_uri": "https://localhost:8080/",
          "height": 206
        }
      },
      "source": [
        "df.head()"
      ],
      "execution_count": 9,
      "outputs": [
        {
          "output_type": "execute_result",
          "data": {
            "text/html": [
              "<div>\n",
              "<style scoped>\n",
              "    .dataframe tbody tr th:only-of-type {\n",
              "        vertical-align: middle;\n",
              "    }\n",
              "\n",
              "    .dataframe tbody tr th {\n",
              "        vertical-align: top;\n",
              "    }\n",
              "\n",
              "    .dataframe thead th {\n",
              "        text-align: right;\n",
              "    }\n",
              "</style>\n",
              "<table border=\"1\" class=\"dataframe\">\n",
              "  <thead>\n",
              "    <tr style=\"text-align: right;\">\n",
              "      <th></th>\n",
              "      <th>0</th>\n",
              "      <th>1</th>\n",
              "      <th>2</th>\n",
              "      <th>3</th>\n",
              "      <th>4</th>\n",
              "      <th>5</th>\n",
              "      <th>6</th>\n",
              "      <th>7</th>\n",
              "    </tr>\n",
              "  </thead>\n",
              "  <tbody>\n",
              "    <tr>\n",
              "      <th>0</th>\n",
              "      <td>1.465656</td>\n",
              "      <td>0.598855</td>\n",
              "      <td>0.145323</td>\n",
              "      <td>0.906348</td>\n",
              "      <td>0.064647</td>\n",
              "      <td>-0.777870</td>\n",
              "      <td>0.040019</td>\n",
              "      <td>0.049449</td>\n",
              "    </tr>\n",
              "    <tr>\n",
              "      <th>1</th>\n",
              "      <td>1.465656</td>\n",
              "      <td>0.598855</td>\n",
              "      <td>-0.381089</td>\n",
              "      <td>0.936993</td>\n",
              "      <td>0.350437</td>\n",
              "      <td>-0.293367</td>\n",
              "      <td>0.213052</td>\n",
              "      <td>0.401536</td>\n",
              "    </tr>\n",
              "    <tr>\n",
              "      <th>2</th>\n",
              "      <td>1.465656</td>\n",
              "      <td>0.598855</td>\n",
              "      <td>-0.447125</td>\n",
              "      <td>0.737604</td>\n",
              "      <td>0.082162</td>\n",
              "      <td>-0.092116</td>\n",
              "      <td>0.275389</td>\n",
              "      <td>5.279311</td>\n",
              "    </tr>\n",
              "    <tr>\n",
              "      <th>3</th>\n",
              "      <td>-0.682288</td>\n",
              "      <td>0.598855</td>\n",
              "      <td>0.201229</td>\n",
              "      <td>-0.777117</td>\n",
              "      <td>-0.410958</td>\n",
              "      <td>1.159518</td>\n",
              "      <td>-0.565738</td>\n",
              "      <td>0.411183</td>\n",
              "    </tr>\n",
              "    <tr>\n",
              "      <th>4</th>\n",
              "      <td>1.465656</td>\n",
              "      <td>0.598855</td>\n",
              "      <td>1.078270</td>\n",
              "      <td>0.061432</td>\n",
              "      <td>0.012957</td>\n",
              "      <td>0.380494</td>\n",
              "      <td>-0.210726</td>\n",
              "      <td>3.141868</td>\n",
              "    </tr>\n",
              "  </tbody>\n",
              "</table>\n",
              "</div>"
            ],
            "text/plain": [
              "          0         1         2  ...         5         6         7\n",
              "0  1.465656  0.598855  0.145323  ... -0.777870  0.040019  0.049449\n",
              "1  1.465656  0.598855 -0.381089  ... -0.293367  0.213052  0.401536\n",
              "2  1.465656  0.598855 -0.447125  ... -0.092116  0.275389  5.279311\n",
              "3 -0.682288  0.598855  0.201229  ...  1.159518 -0.565738  0.411183\n",
              "4  1.465656  0.598855  1.078270  ...  0.380494 -0.210726  3.141868\n",
              "\n",
              "[5 rows x 8 columns]"
            ]
          },
          "metadata": {
            "tags": []
          },
          "execution_count": 9
        }
      ]
    },
    {
      "cell_type": "code",
      "metadata": {
        "id": "-rkd1lvex_X-",
        "colab_type": "code",
        "outputId": "b619ea27-c732-4599-9bc0-8d7b411ba79c",
        "colab": {
          "base_uri": "https://localhost:8080/",
          "height": 268
        }
      },
      "source": [
        "#Load scipy.cluster.hierarchy\n",
        "import scipy.cluster.hierarchy as hc\n",
        "dend = hc.dendrogram(hc.linkage(df, method='ward'))\n",
        "#plt.axhline(y=6, color='r', linestyle='--')"
      ],
      "execution_count": 10,
      "outputs": [
        {
          "output_type": "display_data",
          "data": {
            "image/png": "[encoded data removed]",
            "text/plain": [
              "<Figure size 432x288 with 1 Axes>"
            ]
          },
          "metadata": {
            "tags": []
          }
        }
      ]
    },
    {
      "cell_type": "code",
      "metadata": {
        "id": "E5cnTc7zzMhX",
        "colab_type": "code",
        "outputId": "4f7b6781-cee0-4897-e014-72b3e98ce8a6",
        "colab": {
          "base_uri": "https://localhost:8080/",
          "height": 384
        }
      },
      "source": [
        "from sklearn.cluster import AgglomerativeClustering\n",
        "cluster = AgglomerativeClustering(n_clusters=2, affinity='euclidean', linkage='ward')  \n",
        "cluster.fit_predict(data_scaled)"
      ],
      "execution_count": 0,
      "outputs": [
        {
          "output_type": "execute_result",
          "data": {
            "text/plain": [
              "array([1, 1, 1, 0, 0, 1, 0, 1, 1, 1, 1, 0, 0, 0, 0, 0, 1, 1, 0, 0, 0, 0,\n",
              "       0, 0, 0, 0, 0, 1, 0, 0, 1, 0, 0, 1, 1, 0, 1, 1, 0, 0, 0, 1, 1, 1,\n",
              "       1, 1, 1, 1, 0, 1, 0, 1, 0, 1, 1, 1, 0, 1, 0, 0, 1, 0, 1, 0, 1, 0,\n",
              "       0, 0, 0, 1, 0, 0, 1, 0, 1, 0, 1, 1, 0, 0, 0, 0, 0, 0, 1, 1, 1, 1,\n",
              "       0, 0, 0, 1, 1, 1, 0, 0, 0, 1, 1, 1, 1, 0, 1, 0, 0, 0, 0, 0, 1, 0,\n",
              "       0, 0, 0, 0, 1, 0, 0, 0, 1, 0, 0, 0, 0, 0, 0, 0, 1, 1, 0, 1, 0, 0,\n",
              "       0, 0, 0, 1, 0, 0, 0, 0, 0, 1, 0, 1, 0, 1, 1, 0, 1, 1, 1, 0, 0, 1,\n",
              "       1, 1, 1, 1, 0, 0, 1, 1, 1, 1, 1, 1, 0, 0, 0, 1, 0, 1, 1, 0, 0, 1,\n",
              "       1, 1, 0, 0, 0, 1, 0, 0, 0, 1, 0, 0, 1, 1, 0, 1, 1, 1, 0, 1, 1, 1,\n",
              "       0, 1, 0, 1, 1, 1, 1, 0, 1, 0, 0, 1, 0, 0, 0, 0, 0, 0, 1, 0, 0, 1,\n",
              "       0, 1, 0, 1, 0, 0, 0, 0, 0, 0, 0, 0, 1, 1, 0, 0, 0, 0, 0, 1, 0, 0,\n",
              "       1, 0, 0, 0, 0, 0, 0, 0, 0, 1, 1, 1, 1, 0, 1, 0, 0, 1, 1, 0, 1, 1,\n",
              "       0, 0, 0, 0, 1, 0, 0, 0, 0, 0, 0, 0, 0, 1, 0, 1, 1, 0, 0, 0, 0, 1,\n",
              "       1, 0, 1, 1, 1, 1, 1, 1, 0, 0, 1, 0, 0, 1, 0, 0, 1, 0, 1, 0, 1, 1,\n",
              "       0, 0, 0, 0, 0, 1, 0, 0, 0, 1, 0, 0, 0, 0, 0, 0, 0, 1, 1, 1, 1, 0,\n",
              "       1, 1, 0, 0, 1, 0, 1, 1, 1, 0, 1, 0, 1, 1, 1, 0, 0, 1, 0, 0, 1, 0,\n",
              "       0, 0, 0, 0, 0, 1, 0, 0, 0, 1, 0, 1, 1, 0, 0, 0, 0, 1, 0, 1, 0, 0,\n",
              "       0, 0, 1, 1, 0, 0, 0, 1, 0, 0, 0, 0, 0, 0, 0, 0, 0, 0, 1, 0, 0, 0,\n",
              "       1, 1, 0, 0, 1, 1, 1, 1, 0, 1, 0, 0, 0, 0, 0, 1, 0, 1, 0, 1, 0, 0,\n",
              "       1, 0, 0, 0, 1, 0, 1])"
            ]
          },
          "metadata": {
            "tags": []
          },
          "execution_count": 30
        }
      ]
    },
    {
      "cell_type": "code",
      "metadata": {
        "id": "k9X-VAh60ImU",
        "colab_type": "code",
        "outputId": "602b9cf6-0381-42c3-f0a7-0f68057c2f65",
        "colab": {
          "base_uri": "https://localhost:8080/",
          "height": 450
        }
      },
      "source": [
        "plt.figure(figsize=(10, 7))  \n",
        "plt.scatter(data_scaled['Milk'], data_scaled['Grocery'], c=cluster.labels_) "
      ],
      "execution_count": 0,
      "outputs": [
        {
          "output_type": "execute_result",
          "data": {
            "text/plain": [
              "<matplotlib.collections.PathCollection at 0x7f00bbf98f60>"
            ]
          },
          "metadata": {
            "tags": []
          },
          "execution_count": 32
        },
        {
          "output_type": "display_data",
          "data": {
            "image/png": "[encoded data removed]",
            "text/plain": [
              "<Figure size 720x504 with 1 Axes>"
            ]
          },
          "metadata": {
            "tags": []
          }
        }
      ]
    },
    {
      "cell_type": "markdown",
      "metadata": {
        "id": "7WkgLZrRF2E_",
        "colab_type": "text"
      },
      "source": [
        "#K-means\n",
        "\n",
        "###first, we load the necessary libraries"
      ]
    },
    {
      "cell_type": "code",
      "metadata": {
        "id": "c-5yDX1A0iy3",
        "colab_type": "code",
        "colab": {}
      },
      "source": [
        "from sklearn.cluster import KMeans"
      ],
      "execution_count": 0,
      "outputs": []
    },
    {
      "cell_type": "markdown",
      "metadata": {
        "id": "9sQKNqAFGhAg",
        "colab_type": "text"
      },
      "source": [
        "###One critical decision is the number of clusters that k-means will create. For this we use the **elbow method**.\n",
        "###For this, we apply k-means and create clustering solutions for 2,3,..,10 clusters.\n",
        "###Then we plot the sum of squared distances of data to their closest cluster center \n",
        "###According to the elbow method the best number of clusters is where an elbow appears at the graph."
      ]
    },
    {
      "cell_type": "code",
      "metadata": {
        "id": "GUyIWKUCIigY",
        "colab_type": "code",
        "colab": {
          "base_uri": "https://localhost:8080/",
          "height": 296
        },
        "outputId": "0895cb40-0e79-4a76-eecd-7fe3f0f759d6"
      },
      "source": [
        "wcss = []\n",
        "for i in range(2, 10):\n",
        "    kmeans = KMeans(n_clusters=i, init='k-means++', max_iter=300, n_init=10, random_state=0)\n",
        "    kmeans.fit(df)\n",
        "    wcss.append(kmeans.inertia_)\n",
        "plt.plot(range(2, 10), wcss)\n",
        "plt.title('Elbow Method')\n",
        "plt.xlabel('Number of clusters')\n",
        "plt.ylabel('Sum of sq distances of data to their closest center')\n",
        "plt.show()"
      ],
      "execution_count": 14,
      "outputs": [
        {
          "output_type": "display_data",
          "data": {
            "image/png": "[encoded data removed]",
            "text/plain": [
              "<Figure size 432x288 with 1 Axes>"
            ]
          },
          "metadata": {
            "tags": []
          }
        }
      ]
    },
    {
      "cell_type": "code",
      "metadata": {
        "id": "1GYVKms_JAfb",
        "colab_type": "code",
        "colab": {}
      },
      "source": [
        ""
      ],
      "execution_count": 0,
      "outputs": []
    }
  ]
}