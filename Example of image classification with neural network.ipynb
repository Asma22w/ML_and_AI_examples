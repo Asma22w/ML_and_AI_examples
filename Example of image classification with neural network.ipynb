{
  "nbformat": 4,
  "nbformat_minor": 0,
  "metadata": {
    "colab": {
      "name": "Untitled7.ipynb",
      "version": "0.3.2",
      "provenance": [],
      "include_colab_link": true
    },
    "kernelspec": {
      "name": "python3",
      "display_name": "Python 3"
    }
  },
  "cells": [
    {
      "cell_type": "markdown",
      "metadata": {
        "id": "view-in-github",
        "colab_type": "text"
      },
      "source": [
        "<a href=\"https://colab.research.google.com/github/dpanagop/ML_and_AI_examples/blob/master/Example%20of%20image%20classification%20with%20neural%20network.ipynb\" target=\"_parent\"><img src=\"https://colab.research.google.com/assets/colab-badge.svg\" alt=\"Open In Colab\"/></a>"
      ]
    },
    {
      "cell_type": "markdown",
      "metadata": {
        "id": "Ww3F3BuDkH_V",
        "colab_type": "text"
      },
      "source": [
        "#Example of image classification with neural network"
      ]
    },
    {
      "cell_type": "markdown",
      "metadata": {
        "id": "HidJIZ8kkg1Q",
        "colab_type": "text"
      },
      "source": [
        "###First, we load the necessary libraries"
      ]
    },
    {
      "cell_type": "code",
      "metadata": {
        "id": "QRhENDcTjx1S",
        "colab_type": "code",
        "colab": {}
      },
      "source": [
        "import numpy as np\n",
        "import tensorflow as tf\n",
        "from tensorflow import keras\n",
        "import matplotlib.pyplot as plt"
      ],
      "execution_count": 0,
      "outputs": []
    },
    {
      "cell_type": "markdown",
      "metadata": {
        "id": "x1dVuDBolRg7",
        "colab_type": "text"
      },
      "source": [
        "###Then, we load Fashion MINST dataset"
      ]
    },
    {
      "cell_type": "code",
      "metadata": {
        "id": "akPbPBwplY8v",
        "colab_type": "code",
        "outputId": "667140e8-7110-4cc4-9058-e14992b31ef6",
        "colab": {
          "base_uri": "https://localhost:8080/",
          "height": 164
        }
      },
      "source": [
        "fashion_mnist = keras.datasets.fashion_mnist\n",
        "(train_images, train_labels), (test_images, test_labels) = fashion_mnist.load_data()"
      ],
      "execution_count": 2,
      "outputs": [
        {
          "output_type": "stream",
          "text": [
            "Downloading data from https://storage.googleapis.com/tensorflow/tf-keras-datasets/train-labels-idx1-ubyte.gz\n",
            "32768/29515 [=================================] - 0s 0us/step\n",
            "Downloading data from https://storage.googleapis.com/tensorflow/tf-keras-datasets/train-images-idx3-ubyte.gz\n",
            "26427392/26421880 [==============================] - 0s 0us/step\n",
            "Downloading data from https://storage.googleapis.com/tensorflow/tf-keras-datasets/t10k-labels-idx1-ubyte.gz\n",
            "8192/5148 [===============================================] - 0s 0us/step\n",
            "Downloading data from https://storage.googleapis.com/tensorflow/tf-keras-datasets/t10k-images-idx3-ubyte.gz\n",
            "4423680/4422102 [==============================] - 0s 0us/step\n"
          ],
          "name": "stdout"
        }
      ]
    },
    {
      "cell_type": "markdown",
      "metadata": {
        "id": "Xz_mDVy1ovUL",
        "colab_type": "text"
      },
      "source": [
        "###Label number correspond to:\n",
        "| Label| Class|\n",
        "|---------|----------|\n",
        "| 0  | T-shirt/top|\n",
        "| 1  | Trouser|\n",
        "| 2  | Pullover|\n",
        "| 3  | Dress|\n",
        "| 4  | Coat|\n",
        "| 5  | Sandal|\n",
        "| 6  | Shirt|\n",
        "| 7  | Sneaker|\n",
        "| 8  | bag|\n",
        "| 9  | Ankle boot|\n",
        "\n",
        "###We store correspondence in class_names variable"
      ]
    },
    {
      "cell_type": "code",
      "metadata": {
        "id": "3jTUU9zPo_pY",
        "colab_type": "code",
        "colab": {}
      },
      "source": [
        "class_names = ['T-shirt/top', 'Trouser', 'Pullover', 'Dress', 'Coat',\n",
        "               'Sandal', 'Shirt', 'Sneaker', 'Bag', 'Ankle boot']"
      ],
      "execution_count": 0,
      "outputs": []
    },
    {
      "cell_type": "markdown",
      "metadata": {
        "id": "Y_7uABuIpBEV",
        "colab_type": "text"
      },
      "source": [
        "###We can see an example"
      ]
    },
    {
      "cell_type": "code",
      "metadata": {
        "id": "9ctTGeODlvt6",
        "colab_type": "code",
        "outputId": "cffce82c-02df-4f6b-e906-ebc9e1c894c2",
        "colab": {
          "base_uri": "https://localhost:8080/",
          "height": 241
        }
      },
      "source": [
        "f, ax = plt.subplots(1,2)\n",
        "ax[0].imshow(train_images[40])\n",
        "ax[1].imshow(train_images[50])\n",
        "print(train_labels[40],train_labels[50])\n",
        "print(class_names[6],class_names[6])"
      ],
      "execution_count": 4,
      "outputs": [
        {
          "output_type": "stream",
          "text": [
            "6 3\n",
            "Shirt Shirt\n"
          ],
          "name": "stdout"
        },
        {
          "output_type": "display_data",
          "data": {
            "image/png": "[encoded data removed]",
            "text/plain": [
              "<Figure size 432x288 with 2 Axes>"
            ]
          },
          "metadata": {
            "tags": []
          }
        }
      ]
    },
    {
      "cell_type": "markdown",
      "metadata": {
        "id": "84j2r_8qle4g",
        "colab_type": "text"
      },
      "source": [
        "###Next, we normalise data"
      ]
    },
    {
      "cell_type": "code",
      "metadata": {
        "id": "ABSLwCLslpkI",
        "colab_type": "code",
        "colab": {}
      },
      "source": [
        "train_images = train_images / 255.0\n",
        "test_images = test_images / 255.0\n"
      ],
      "execution_count": 0,
      "outputs": []
    },
    {
      "cell_type": "markdown",
      "metadata": {
        "id": "1P3gPj5TnWvI",
        "colab_type": "text"
      },
      "source": [
        "###We create a neural net"
      ]
    },
    {
      "cell_type": "code",
      "metadata": {
        "id": "EnO6W_uendrN",
        "colab_type": "code",
        "colab": {}
      },
      "source": [
        "model = keras.Sequential([\n",
        "    keras.layers.Flatten(input_shape=(28, 28)),\n",
        "    keras.layers.Dense(64, activation=tf.nn.relu),\n",
        "    keras.layers.Dense(10, activation=tf.nn.softmax)\n",
        "])"
      ],
      "execution_count": 0,
      "outputs": []
    },
    {
      "cell_type": "markdown",
      "metadata": {
        "id": "f4ZajpTGnkLd",
        "colab_type": "text"
      },
      "source": [
        "###Next, compile the model"
      ]
    },
    {
      "cell_type": "code",
      "metadata": {
        "id": "cs-CinJAnjxy",
        "colab_type": "code",
        "colab": {}
      },
      "source": [
        "model.compile(optimizer='adam', \n",
        "              loss='sparse_categorical_crossentropy')"
      ],
      "execution_count": 0,
      "outputs": []
    },
    {
      "cell_type": "markdown",
      "metadata": {
        "id": "F-Cd-ptRns1w",
        "colab_type": "text"
      },
      "source": [
        "###Train model"
      ]
    },
    {
      "cell_type": "code",
      "metadata": {
        "id": "8bfZQh8vnujg",
        "colab_type": "code",
        "outputId": "e4fc7510-aa32-4a69-8480-004991631a2b",
        "colab": {
          "base_uri": "https://localhost:8080/",
          "height": 403
        }
      },
      "source": [
        "model.fit(train_images, train_labels, epochs=10)"
      ],
      "execution_count": 9,
      "outputs": [
        {
          "output_type": "stream",
          "text": [
            "Epoch 1/10\n",
            "60000/60000 [==============================] - 4s 66us/sample - loss: 0.5135\n",
            "Epoch 2/10\n",
            "60000/60000 [==============================] - 3s 57us/sample - loss: 0.3847\n",
            "Epoch 3/10\n",
            "60000/60000 [==============================] - 3s 57us/sample - loss: 0.3450\n",
            "Epoch 4/10\n",
            "60000/60000 [==============================] - 3s 57us/sample - loss: 0.3229\n",
            "Epoch 5/10\n",
            "60000/60000 [==============================] - 3s 55us/sample - loss: 0.3074\n",
            "Epoch 6/10\n",
            "60000/60000 [==============================] - 3s 56us/sample - loss: 0.2944\n",
            "Epoch 7/10\n",
            "60000/60000 [==============================] - 3s 55us/sample - loss: 0.2828\n",
            "Epoch 8/10\n",
            "60000/60000 [==============================] - 3s 55us/sample - loss: 0.2736\n",
            "Epoch 9/10\n",
            "60000/60000 [==============================] - 3s 56us/sample - loss: 0.2657\n",
            "Epoch 10/10\n",
            "60000/60000 [==============================] - 3s 56us/sample - loss: 0.2566\n"
          ],
          "name": "stdout"
        },
        {
          "output_type": "execute_result",
          "data": {
            "text/plain": [
              "<tensorflow.python.keras.callbacks.History at 0x7fc946c7e2b0>"
            ]
          },
          "metadata": {
            "tags": []
          },
          "execution_count": 9
        }
      ]
    },
    {
      "cell_type": "markdown",
      "metadata": {
        "id": "Lb0BXV-6n7aJ",
        "colab_type": "text"
      },
      "source": [
        "###Predict class of second image in test dataset"
      ]
    },
    {
      "cell_type": "code",
      "metadata": {
        "id": "s8jsni0bn_f1",
        "colab_type": "code",
        "outputId": "92b7179d-4744-47dd-c46f-3c59d2d7e110",
        "colab": {
          "base_uri": "https://localhost:8080/",
          "height": 90
        }
      },
      "source": [
        "prediction=model.predict(test_images[1].reshape(1, 28, 28))\n",
        "print(\"Probabilities of image in each class are\",prediction)\n",
        "print(\"Highest probability in place:\", prediction.argmax())\n",
        "print(\"Image is classified as a: \",class_names[prediction.argmax()])"
      ],
      "execution_count": 10,
      "outputs": [
        {
          "output_type": "stream",
          "text": [
            "Probabilities of image in each class are [[1.1575191e-05 1.5599756e-13 9.9969423e-01 3.7402872e-10 1.5153056e-04\n",
            "  5.1834117e-11 1.4260947e-04 5.2379762e-14 1.5896923e-11 7.9703931e-20]]\n",
            "Highest probability in place: 2\n",
            "Image is classified as a:  Pullover\n"
          ],
          "name": "stdout"
        }
      ]
    },
    {
      "cell_type": "markdown",
      "metadata": {
        "id": "NnRT1sg7rQHi",
        "colab_type": "text"
      },
      "source": [
        ""
      ]
    },
    {
      "cell_type": "code",
      "metadata": {
        "id": "zslaJQ7VoZDu",
        "colab_type": "code",
        "outputId": "fe691453-640b-49aa-ebbd-360d3b7f2b52",
        "colab": {
          "base_uri": "https://localhost:8080/",
          "height": 324
        }
      },
      "source": [
        "print(\"Actual label number is:\",test_labels[1])\n",
        "print(\"Image is a: \",class_names[test_labels[1]])\n",
        "plt.imshow(test_images[1])\n"
      ],
      "execution_count": 11,
      "outputs": [
        {
          "output_type": "stream",
          "text": [
            "Actual label number is: 2\n",
            "Image is a:  Pullover\n"
          ],
          "name": "stdout"
        },
        {
          "output_type": "execute_result",
          "data": {
            "text/plain": [
              "<matplotlib.image.AxesImage at 0x7fc95cfa3278>"
            ]
          },
          "metadata": {
            "tags": []
          },
          "execution_count": 11
        },
        {
          "output_type": "display_data",
          "data": {
            "image/png": "[encoded data removed]",
            "text/plain": [
              "<Figure size 432x288 with 1 Axes>"
            ]
          },
          "metadata": {
            "tags": []
          }
        }
      ]
    },
    {
      "cell_type": "markdown",
      "metadata": {
        "id": "KaJlvr76sOtB",
        "colab_type": "text"
      },
      "source": [
        "###Evaluate models accuracy"
      ]
    },
    {
      "cell_type": "code",
      "metadata": {
        "id": "iyCJ4rDzsRx8",
        "colab_type": "code",
        "outputId": "f525cf96-15cd-4001-ab65-3ce4373b581b",
        "colab": {
          "base_uri": "https://localhost:8080/",
          "height": 54
        }
      },
      "source": [
        "test_acc = model.evaluate(test_images, test_labels)\n",
        "print('Test accuracy:', test_acc)\n"
      ],
      "execution_count": 12,
      "outputs": [
        {
          "output_type": "stream",
          "text": [
            "10000/10000 [==============================] - 0s 30us/sample - loss: 0.3531\n",
            "Test accuracy: 0.3531124994575977\n"
          ],
          "name": "stdout"
        }
      ]
    },
    {
      "cell_type": "code",
      "metadata": {
        "id": "GQMgOE88CFNZ",
        "colab_type": "code",
        "colab": {
          "base_uri": "https://localhost:8080/",
          "height": 398
        },
        "outputId": "8a3df8af-c7cc-4934-9db4-25043f2d7b00"
      },
      "source": [
        "prediction=model.predict(test_images[12].reshape(1, 28, 28))\n",
        "print(\"Probabilities of image in each class are\",prediction)\n",
        "print(\"Highest probability in place:\", prediction.argmax())\n",
        "print(\"Image is classified as a: \",class_names[prediction.argmax()])\n",
        "print(\"Actual label number is:\",test_labels[12])\n",
        "print(\"Image is a: \",class_names[test_labels[12]])\n",
        "plt.imshow(test_images[12])"
      ],
      "execution_count": 24,
      "outputs": [
        {
          "output_type": "stream",
          "text": [
            "Probabilities of image in each class are [[3.1000241e-07 3.7169809e-06 3.6813836e-07 8.7259054e-05 2.4242451e-07\n",
            "  7.4993807e-01 8.1617245e-08 2.2687912e-01 2.3090785e-02 3.4052394e-09]]\n",
            "Highest probability in place: 5\n",
            "Image is classified as a:  Sandal\n",
            "Actual label number is: 7\n",
            "Image is a:  Sneaker\n"
          ],
          "name": "stdout"
        },
        {
          "output_type": "execute_result",
          "data": {
            "text/plain": [
              "<matplotlib.image.AxesImage at 0x7fc93e4ee470>"
            ]
          },
          "metadata": {
            "tags": []
          },
          "execution_count": 24
        },
        {
          "output_type": "display_data",
          "data": {
            "image/png": "[encoded data removed]",
            "text/plain": [
              "<Figure size 432x288 with 1 Axes>"
            ]
          },
          "metadata": {
            "tags": []
          }
        }
      ]
    },
    {
      "cell_type": "code",
      "metadata": {
        "id": "y8Tane_mDHI-",
        "colab_type": "code",
        "colab": {
          "base_uri": "https://localhost:8080/",
          "height": 398
        },
        "outputId": "9a3db461-cfa3-40f0-b659-a41a2087bcb9"
      },
      "source": [
        "prediction=model.predict(test_images[17].reshape(1, 28, 28))\n",
        "print(\"Probabilities of image in each class are\",prediction)\n",
        "print(\"Highest probability in place:\", prediction.argmax())\n",
        "print(\"Image is classified as a: \",class_names[prediction.argmax()])\n",
        "print(\"Actual label number is:\",test_labels[17])\n",
        "print(\"Image is a: \",class_names[test_labels[17]])\n",
        "plt.imshow(test_images[17])"
      ],
      "execution_count": 25,
      "outputs": [
        {
          "output_type": "stream",
          "text": [
            "Probabilities of image in each class are [[9.9802995e-04 8.7634575e-09 9.6608990e-01 3.0320915e-04 2.9739903e-02\n",
            "  1.0248167e-10 2.7233397e-03 2.7751962e-11 1.4557419e-04 8.3082138e-11]]\n",
            "Highest probability in place: 2\n",
            "Image is classified as a:  Pullover\n",
            "Actual label number is: 4\n",
            "Image is a:  Coat\n"
          ],
          "name": "stdout"
        },
        {
          "output_type": "execute_result",
          "data": {
            "text/plain": [
              "<matplotlib.image.AxesImage at 0x7fc93e4c8080>"
            ]
          },
          "metadata": {
            "tags": []
          },
          "execution_count": 25
        },
        {
          "output_type": "display_data",
          "data": {
            "image/png": "[encoded data removed]",
            "text/plain": [
              "<Figure size 432x288 with 1 Axes>"
            ]
          },
          "metadata": {
            "tags": []
          }
        }
      ]
    },
    {
      "cell_type": "code",
      "metadata": {
        "id": "z4GX7AsqDdY8",
        "colab_type": "code",
        "colab": {}
      },
      "source": [
        ""
      ],
      "execution_count": 0,
      "outputs": []
    },
    {
      "cell_type": "code",
      "metadata": {
        "id": "5B0hxnruD0C4",
        "colab_type": "code",
        "colab": {}
      },
      "source": [
        ""
      ],
      "execution_count": 0,
      "outputs": []
    }
  ]
}