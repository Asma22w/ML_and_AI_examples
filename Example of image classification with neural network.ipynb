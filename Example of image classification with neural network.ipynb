{
  "nbformat": 4,
  "nbformat_minor": 0,
  "metadata": {
    "colab": {
      "name": "Untitled7.ipynb",
      "version": "0.3.2",
      "provenance": [],
      "include_colab_link": true
    },
    "kernelspec": {
      "name": "python3",
      "display_name": "Python 3"
    }
  },
  "cells": [
    {
      "cell_type": "markdown",
      "metadata": {
        "id": "view-in-github",
        "colab_type": "text"
      },
      "source": [
        "<a href=\"https://colab.research.google.com/github/dpanagop/ML_and_AI_examples/blob/master/Example%20of%20image%20classification%20with%20neural%20network.ipynb\" target=\"_parent\"><img src=\"https://colab.research.google.com/assets/colab-badge.svg\" alt=\"Open In Colab\"/></a>"
      ]
    },
    {
      "cell_type": "markdown",
      "metadata": {
        "id": "Ww3F3BuDkH_V",
        "colab_type": "text"
      },
      "source": [
        "#Example of image classification with neural network"
      ]
    },
    {
      "cell_type": "markdown",
      "metadata": {
        "id": "HidJIZ8kkg1Q",
        "colab_type": "text"
      },
      "source": [
        "###First, we load the necessary libraries"
      ]
    },
    {
      "cell_type": "code",
      "metadata": {
        "id": "QRhENDcTjx1S",
        "colab_type": "code",
        "colab": {}
      },
      "source": [
        "import numpy as np\n",
        "import tensorflow as tf\n",
        "from tensorflow import keras\n",
        "import matplotlib.pyplot as plt"
      ],
      "execution_count": 0,
      "outputs": []
    },
    {
      "cell_type": "markdown",
      "metadata": {
        "id": "x1dVuDBolRg7",
        "colab_type": "text"
      },
      "source": [
        "###Then, we load Fashion MINST dataset"
      ]
    },
    {
      "cell_type": "code",
      "metadata": {
        "id": "akPbPBwplY8v",
        "colab_type": "code",
        "colab": {
          "base_uri": "https://localhost:8080/",
          "height": 164
        },
        "outputId": "0fb92cbd-780e-4c44-fd2c-08a58133f921"
      },
      "source": [
        "fashion_mnist = keras.datasets.fashion_mnist\n",
        "(train_images, train_labels), (test_images, test_labels) = fashion_mnist.load_data()"
      ],
      "execution_count": 2,
      "outputs": [
        {
          "output_type": "stream",
          "text": [
            "Downloading data from https://storage.googleapis.com/tensorflow/tf-keras-datasets/train-labels-idx1-ubyte.gz\n",
            "32768/29515 [=================================] - 0s 0us/step\n",
            "Downloading data from https://storage.googleapis.com/tensorflow/tf-keras-datasets/train-images-idx3-ubyte.gz\n",
            "26427392/26421880 [==============================] - 0s 0us/step\n",
            "Downloading data from https://storage.googleapis.com/tensorflow/tf-keras-datasets/t10k-labels-idx1-ubyte.gz\n",
            "8192/5148 [===============================================] - 0s 0us/step\n",
            "Downloading data from https://storage.googleapis.com/tensorflow/tf-keras-datasets/t10k-images-idx3-ubyte.gz\n",
            "4423680/4422102 [==============================] - 0s 0us/step\n"
          ],
          "name": "stdout"
        }
      ]
    },
    {
      "cell_type": "markdown",
      "metadata": {
        "id": "Xz_mDVy1ovUL",
        "colab_type": "text"
      },
      "source": [
        "###Label number correspond to:\n",
        "| Label| Class|\n",
        "|---------|----------|\n",
        "| 0  | T-shirt/top|\n",
        "| 1  | Trouser|\n",
        "| 2  | Pullover|\n",
        "| 3  | Dress|\n",
        "| 4  | Coat|\n",
        "| 5  | Sandal|\n",
        "| 6  | Shirt|\n",
        "| 7  | Sneaker|\n",
        "| 8  | bag|\n",
        "| 9  | Ankle boot|\n",
        "\n",
        "###We store correspondence in class_names variable"
      ]
    },
    {
      "cell_type": "code",
      "metadata": {
        "id": "3jTUU9zPo_pY",
        "colab_type": "code",
        "colab": {}
      },
      "source": [
        "class_names = ['T-shirt/top', 'Trouser', 'Pullover', 'Dress', 'Coat',\n",
        "               'Sandal', 'Shirt', 'Sneaker', 'Bag', 'Ankle boot']"
      ],
      "execution_count": 0,
      "outputs": []
    },
    {
      "cell_type": "markdown",
      "metadata": {
        "id": "Y_7uABuIpBEV",
        "colab_type": "text"
      },
      "source": [
        "###We can see an example"
      ]
    },
    {
      "cell_type": "code",
      "metadata": {
        "id": "9ctTGeODlvt6",
        "colab_type": "code",
        "colab": {
          "base_uri": "https://localhost:8080/",
          "height": 241
        },
        "outputId": "b08a1a64-d332-4f54-9b37-07fbbe90dcbc"
      },
      "source": [
        "f, ax = plt.subplots(1,2)\n",
        "ax[0].imshow(train_images[40])\n",
        "ax[1].imshow(train_images[50])\n",
        "print(train_labels[40],train_labels[50])\n",
        "print(class_names[6],class_names[6])"
      ],
      "execution_count": 25,
      "outputs": [
        {
          "output_type": "stream",
          "text": [
            "6 3\n",
            "Shirt Shirt\n"
          ],
          "name": "stdout"
        },
        {
          "output_type": "display_data",
          "data": {
            "image/png": "[encoded data removed]",
            "text/plain": [
              "<Figure size 432x288 with 2 Axes>"
            ]
          },
          "metadata": {
            "tags": []
          }
        }
      ]
    },
    {
      "cell_type": "markdown",
      "metadata": {
        "id": "84j2r_8qle4g",
        "colab_type": "text"
      },
      "source": [
        "###Next, we normalise data"
      ]
    },
    {
      "cell_type": "code",
      "metadata": {
        "id": "ABSLwCLslpkI",
        "colab_type": "code",
        "colab": {}
      },
      "source": [
        "train_images = train_images / 255.0\n",
        "test_images = test_images / 255.0\n"
      ],
      "execution_count": 0,
      "outputs": []
    },
    {
      "cell_type": "markdown",
      "metadata": {
        "id": "1P3gPj5TnWvI",
        "colab_type": "text"
      },
      "source": [
        "###We create a neural net"
      ]
    },
    {
      "cell_type": "code",
      "metadata": {
        "id": "EnO6W_uendrN",
        "colab_type": "code",
        "colab": {
          "base_uri": "https://localhost:8080/",
          "height": 110
        },
        "outputId": "89f90d6b-4ec6-4400-f39c-10bc7957756e"
      },
      "source": [
        "model = keras.Sequential([\n",
        "    keras.layers.Flatten(input_shape=(28, 28)),\n",
        "    keras.layers.Dense(64, activation=tf.nn.relu),\n",
        "    keras.layers.Dense(10, activation=tf.nn.softmax)\n",
        "])"
      ],
      "execution_count": 15,
      "outputs": [
        {
          "output_type": "stream",
          "text": [
            "WARNING: Logging before flag parsing goes to stderr.\n",
            "W0717 11:07:57.103442 140023932245888 deprecation.py:506] From /usr/local/lib/python3.6/dist-packages/tensorflow/python/ops/init_ops.py:1251: calling VarianceScaling.__init__ (from tensorflow.python.ops.init_ops) with dtype is deprecated and will be removed in a future version.\n",
            "Instructions for updating:\n",
            "Call initializer instance with the dtype argument instead of passing it to the constructor\n"
          ],
          "name": "stderr"
        }
      ]
    },
    {
      "cell_type": "markdown",
      "metadata": {
        "id": "f4ZajpTGnkLd",
        "colab_type": "text"
      },
      "source": [
        "###Next, compile the model"
      ]
    },
    {
      "cell_type": "code",
      "metadata": {
        "id": "cs-CinJAnjxy",
        "colab_type": "code",
        "colab": {}
      },
      "source": [
        "model.compile(optimizer='adam', \n",
        "              loss='sparse_categorical_crossentropy')"
      ],
      "execution_count": 0,
      "outputs": []
    },
    {
      "cell_type": "markdown",
      "metadata": {
        "id": "F-Cd-ptRns1w",
        "colab_type": "text"
      },
      "source": [
        "###Train model"
      ]
    },
    {
      "cell_type": "code",
      "metadata": {
        "id": "8bfZQh8vnujg",
        "colab_type": "code",
        "colab": {
          "base_uri": "https://localhost:8080/",
          "height": 403
        },
        "outputId": "2cabb8e4-0b33-4a7c-d39c-de181dfd7d2c"
      },
      "source": [
        "model.fit(train_images, train_labels, epochs=10)"
      ],
      "execution_count": 17,
      "outputs": [
        {
          "output_type": "stream",
          "text": [
            "Epoch 1/10\n",
            "60000/60000 [==============================] - 4s 66us/sample - loss: 0.5176\n",
            "Epoch 2/10\n",
            "60000/60000 [==============================] - 3s 58us/sample - loss: 0.3963\n",
            "Epoch 3/10\n",
            "60000/60000 [==============================] - 3s 57us/sample - loss: 0.3601\n",
            "Epoch 4/10\n",
            "60000/60000 [==============================] - 3s 57us/sample - loss: 0.3375\n",
            "Epoch 5/10\n",
            "60000/60000 [==============================] - 3s 56us/sample - loss: 0.3170\n",
            "Epoch 6/10\n",
            "60000/60000 [==============================] - 3s 55us/sample - loss: 0.3045\n",
            "Epoch 7/10\n",
            "60000/60000 [==============================] - 3s 55us/sample - loss: 0.2915\n",
            "Epoch 8/10\n",
            "60000/60000 [==============================] - 3s 55us/sample - loss: 0.2834\n",
            "Epoch 9/10\n",
            "60000/60000 [==============================] - 3s 55us/sample - loss: 0.2718\n",
            "Epoch 10/10\n",
            "60000/60000 [==============================] - 3s 55us/sample - loss: 0.2644\n"
          ],
          "name": "stdout"
        },
        {
          "output_type": "execute_result",
          "data": {
            "text/plain": [
              "<tensorflow.python.keras.callbacks.History at 0x7f59a05cb780>"
            ]
          },
          "metadata": {
            "tags": []
          },
          "execution_count": 17
        }
      ]
    },
    {
      "cell_type": "markdown",
      "metadata": {
        "id": "Lb0BXV-6n7aJ",
        "colab_type": "text"
      },
      "source": [
        "###Predict class of second image in test dataset"
      ]
    },
    {
      "cell_type": "code",
      "metadata": {
        "id": "s8jsni0bn_f1",
        "colab_type": "code",
        "colab": {
          "base_uri": "https://localhost:8080/",
          "height": 90
        },
        "outputId": "f137059e-ec8f-4617-d769-83ee4087d00e"
      },
      "source": [
        "prediction=model.predict(test_images[1].reshape(1, 28, 28))\n",
        "print(\"Probabilities of image in each class are\",prediction)\n",
        "print(\"Highest probability in place:\", prediction.argmax())\n",
        "print(\"Image is classified as a: \",class_names[prediction.argmax()])"
      ],
      "execution_count": 31,
      "outputs": [
        {
          "output_type": "stream",
          "text": [
            "Probabilities of image in each class are [[9.5022015e-06 5.1667494e-12 9.8645473e-01 5.8507510e-09 1.2894193e-02\n",
            "  1.9815192e-16 6.4156565e-04 5.5644159e-23 8.7376306e-10 1.6498445e-18]]\n",
            "Highest probability in place: 2\n",
            "Image is a:  Pullover\n"
          ],
          "name": "stdout"
        }
      ]
    },
    {
      "cell_type": "markdown",
      "metadata": {
        "id": "NnRT1sg7rQHi",
        "colab_type": "text"
      },
      "source": [
        ""
      ]
    },
    {
      "cell_type": "code",
      "metadata": {
        "id": "zslaJQ7VoZDu",
        "colab_type": "code",
        "colab": {
          "base_uri": "https://localhost:8080/",
          "height": 324
        },
        "outputId": "581b57d6-40ca-43e5-f707-7bb65ee2477c"
      },
      "source": [
        "print(\"Actual label number is:\",test_labels[1])\n",
        "print(\"Image is a: \",class_names[test_labels[1]])\n",
        "plt.imshow(test_images[1])\n"
      ],
      "execution_count": 33,
      "outputs": [
        {
          "output_type": "stream",
          "text": [
            "Actual label number is: 2\n",
            "Image is a:  Pullover\n"
          ],
          "name": "stdout"
        },
        {
          "output_type": "execute_result",
          "data": {
            "text/plain": [
              "<matplotlib.image.AxesImage at 0x7f599a8f1da0>"
            ]
          },
          "metadata": {
            "tags": []
          },
          "execution_count": 33
        },
        {
          "output_type": "display_data",
          "data": {
            "image/png": "[encoded data removed]",
            "text/plain": [
              "<Figure size 432x288 with 1 Axes>"
            ]
          },
          "metadata": {
            "tags": []
          }
        }
      ]
    },
    {
      "cell_type": "markdown",
      "metadata": {
        "id": "KaJlvr76sOtB",
        "colab_type": "text"
      },
      "source": [
        "###Evaluate models accuracy"
      ]
    },
    {
      "cell_type": "code",
      "metadata": {
        "id": "iyCJ4rDzsRx8",
        "colab_type": "code",
        "colab": {
          "base_uri": "https://localhost:8080/",
          "height": 54
        },
        "outputId": "55a2a6aa-28f5-4587-c3aa-6e7673635cef"
      },
      "source": [
        "test_acc = model.evaluate(test_images, test_labels)\n",
        "print('Test accuracy:', test_acc)\n"
      ],
      "execution_count": 36,
      "outputs": [
        {
          "output_type": "stream",
          "text": [
            "10000/10000 [==============================] - 0s 33us/sample - loss: 0.3568\n",
            "Test accuracy: 0.3568166055083275\n"
          ],
          "name": "stdout"
        }
      ]
    }
  ]
}